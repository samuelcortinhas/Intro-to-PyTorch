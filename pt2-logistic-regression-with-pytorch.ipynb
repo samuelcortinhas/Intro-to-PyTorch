{
 "cells": [
  {
   "cell_type": "markdown",
   "id": "61735883",
   "metadata": {
    "papermill": {
     "duration": 0.005547,
     "end_time": "2022-09-21T09:17:17.308946",
     "exception": false,
     "start_time": "2022-09-21T09:17:17.303399",
     "status": "completed"
    },
    "tags": []
   },
   "source": [
    "# Introduction\n",
    "\n",
    "In general, when working with **PyTorch** there are 4 steps to the training pipeline.\n",
    "\n",
    "1. Preprare the data (convert to tensors, reshape etc)\n",
    "2. Construct the model (usually as a class)\n",
    "3. Define the loss and optimiser\n",
    "4. Write a training loop\n",
    "\n",
    "This time, we will practice these steps on a **logistic regression** problem.\n",
    "\n",
    "<br>\n",
    "\n",
    "**Libraries**"
   ]
  },
  {
   "cell_type": "code",
   "execution_count": 1,
   "id": "74942e37",
   "metadata": {
    "execution": {
     "iopub.execute_input": "2022-09-21T09:17:17.320098Z",
     "iopub.status.busy": "2022-09-21T09:17:17.319628Z",
     "iopub.status.idle": "2022-09-21T09:17:20.435193Z",
     "shell.execute_reply": "2022-09-21T09:17:20.433905Z"
    },
    "papermill": {
     "duration": 3.124396,
     "end_time": "2022-09-21T09:17:20.438056",
     "exception": false,
     "start_time": "2022-09-21T09:17:17.313660",
     "status": "completed"
    },
    "tags": []
   },
   "outputs": [],
   "source": [
    "import numpy as np\n",
    "import matplotlib.pyplot as plt\n",
    "%matplotlib inline\n",
    "from sklearn import datasets\n",
    "from sklearn.preprocessing import StandardScaler\n",
    "from sklearn.model_selection import train_test_split\n",
    "import torch\n",
    "import torch.nn as nn"
   ]
  },
  {
   "cell_type": "markdown",
   "id": "cf71899b",
   "metadata": {
    "papermill": {
     "duration": 0.004067,
     "end_time": "2022-09-21T09:17:20.446600",
     "exception": false,
     "start_time": "2022-09-21T09:17:20.442533",
     "status": "completed"
    },
    "tags": []
   },
   "source": [
    "# 1. Preprare the data\n",
    "\n",
    "We load the famous **breast cancer dataset** from sklearn. The aim is to predict whether a patient has breast cancer from several measurements so this is a **binary classification** problem. "
   ]
  },
  {
   "cell_type": "code",
   "execution_count": 2,
   "id": "af20a314",
   "metadata": {
    "execution": {
     "iopub.execute_input": "2022-09-21T09:17:20.457459Z",
     "iopub.status.busy": "2022-09-21T09:17:20.456883Z",
     "iopub.status.idle": "2022-09-21T09:17:20.476914Z",
     "shell.execute_reply": "2022-09-21T09:17:20.475670Z"
    },
    "papermill": {
     "duration": 0.028564,
     "end_time": "2022-09-21T09:17:20.479514",
     "exception": false,
     "start_time": "2022-09-21T09:17:20.450950",
     "status": "completed"
    },
    "tags": []
   },
   "outputs": [
    {
     "name": "stdout",
     "output_type": "stream",
     "text": [
      "X shape: (569, 30)\n",
      "y shape: (569,)\n"
     ]
    }
   ],
   "source": [
    "# Load data\n",
    "data = datasets.load_breast_cancer()\n",
    "X, y = data.data, data.target\n",
    "print('X shape:',X.shape)\n",
    "print('y shape:',y.shape)"
   ]
  },
  {
   "cell_type": "code",
   "execution_count": 3,
   "id": "382bb5d2",
   "metadata": {
    "execution": {
     "iopub.execute_input": "2022-09-21T09:17:20.491491Z",
     "iopub.status.busy": "2022-09-21T09:17:20.490373Z",
     "iopub.status.idle": "2022-09-21T09:17:20.499370Z",
     "shell.execute_reply": "2022-09-21T09:17:20.498097Z"
    },
    "papermill": {
     "duration": 0.017499,
     "end_time": "2022-09-21T09:17:20.501801",
     "exception": false,
     "start_time": "2022-09-21T09:17:20.484302",
     "status": "completed"
    },
    "tags": []
   },
   "outputs": [],
   "source": [
    "# Split data (80/20)\n",
    "X_train, X_test, y_train, y_test = train_test_split(X, y, test_size=0.2, random_state=0)"
   ]
  },
  {
   "cell_type": "code",
   "execution_count": 4,
   "id": "aac01249",
   "metadata": {
    "execution": {
     "iopub.execute_input": "2022-09-21T09:17:20.513244Z",
     "iopub.status.busy": "2022-09-21T09:17:20.512458Z",
     "iopub.status.idle": "2022-09-21T09:17:20.518794Z",
     "shell.execute_reply": "2022-09-21T09:17:20.517857Z"
    },
    "papermill": {
     "duration": 0.014999,
     "end_time": "2022-09-21T09:17:20.521371",
     "exception": false,
     "start_time": "2022-09-21T09:17:20.506372",
     "status": "completed"
    },
    "tags": []
   },
   "outputs": [],
   "source": [
    "# Scale data (mean=0, std=1)\n",
    "sc = StandardScaler()\n",
    "X_train = sc.fit_transform(X_train)\n",
    "X_test = sc.transform(X_test)"
   ]
  },
  {
   "cell_type": "code",
   "execution_count": 5,
   "id": "f681fbf3",
   "metadata": {
    "execution": {
     "iopub.execute_input": "2022-09-21T09:17:20.533164Z",
     "iopub.status.busy": "2022-09-21T09:17:20.532638Z",
     "iopub.status.idle": "2022-09-21T09:17:20.539172Z",
     "shell.execute_reply": "2022-09-21T09:17:20.537914Z"
    },
    "papermill": {
     "duration": 0.015582,
     "end_time": "2022-09-21T09:17:20.541755",
     "exception": false,
     "start_time": "2022-09-21T09:17:20.526173",
     "status": "completed"
    },
    "tags": []
   },
   "outputs": [],
   "source": [
    "# Convert to tensors\n",
    "X_train = torch.from_numpy(X_train.astype(np.float32))\n",
    "y_train = torch.from_numpy(y_train.astype(np.float32))\n",
    "X_test = torch.from_numpy(X_test.astype(np.float32))\n",
    "y_test = torch.from_numpy(y_test.astype(np.float32))"
   ]
  },
  {
   "cell_type": "code",
   "execution_count": 6,
   "id": "55a434d1",
   "metadata": {
    "execution": {
     "iopub.execute_input": "2022-09-21T09:17:20.552691Z",
     "iopub.status.busy": "2022-09-21T09:17:20.552252Z",
     "iopub.status.idle": "2022-09-21T09:17:20.560135Z",
     "shell.execute_reply": "2022-09-21T09:17:20.558598Z"
    },
    "papermill": {
     "duration": 0.016769,
     "end_time": "2022-09-21T09:17:20.563103",
     "exception": false,
     "start_time": "2022-09-21T09:17:20.546334",
     "status": "completed"
    },
    "tags": []
   },
   "outputs": [
    {
     "name": "stdout",
     "output_type": "stream",
     "text": [
      "y_train shape: torch.Size([455, 1])\n",
      "y_test shape: torch.Size([114, 1])\n"
     ]
    }
   ],
   "source": [
    "# Reshape tensors\n",
    "y_train = y_train.view(-1,1)\n",
    "y_test = y_test.view(-1,1)\n",
    "print('y_train shape:', y_train.shape)\n",
    "print('y_test shape:', y_test.shape)"
   ]
  },
  {
   "cell_type": "markdown",
   "id": "078cda64",
   "metadata": {
    "papermill": {
     "duration": 0.004357,
     "end_time": "2022-09-21T09:17:20.572559",
     "exception": false,
     "start_time": "2022-09-21T09:17:20.568202",
     "status": "completed"
    },
    "tags": []
   },
   "source": [
    "# 2. Construct the model\n",
    "\n",
    "When working with neural networks, we need to **inherit** the '**nn.Module**' and define a '**forward**' attribute. \n",
    "\n",
    "The inheritance part is done to get access to **attributes** like '**model.parameters()**', which are used in training."
   ]
  },
  {
   "cell_type": "code",
   "execution_count": 7,
   "id": "b43ef165",
   "metadata": {
    "execution": {
     "iopub.execute_input": "2022-09-21T09:17:20.584202Z",
     "iopub.status.busy": "2022-09-21T09:17:20.583182Z",
     "iopub.status.idle": "2022-09-21T09:17:20.594229Z",
     "shell.execute_reply": "2022-09-21T09:17:20.592904Z"
    },
    "papermill": {
     "duration": 0.019391,
     "end_time": "2022-09-21T09:17:20.596628",
     "exception": false,
     "start_time": "2022-09-21T09:17:20.577237",
     "status": "completed"
    },
    "tags": []
   },
   "outputs": [],
   "source": [
    "# Model\n",
    "class LogisticRegression(nn.Module):\n",
    "    def __init__(self, n_feats):\n",
    "        super().__init__()\n",
    "        \n",
    "        # Define layers\n",
    "        self.lin = nn.Linear(n_feats,1)\n",
    "        self.sig = nn.Sigmoid()\n",
    "        \n",
    "    def forward(self, x):\n",
    "        return self.sig(self.lin(x))\n",
    "    \n",
    "model = LogisticRegression(n_feats = X.shape[1])"
   ]
  },
  {
   "cell_type": "markdown",
   "id": "dcc24d96",
   "metadata": {
    "papermill": {
     "duration": 0.004646,
     "end_time": "2022-09-21T09:17:20.605849",
     "exception": false,
     "start_time": "2022-09-21T09:17:20.601203",
     "status": "completed"
    },
    "tags": []
   },
   "source": [
    "# 3. Define the loss and optimiser\n",
    "\n",
    "The loss function is called from the '**torch.nn**' library and the optimiser from the '**torch.optim**' library. "
   ]
  },
  {
   "cell_type": "code",
   "execution_count": 8,
   "id": "1d8f4e56",
   "metadata": {
    "execution": {
     "iopub.execute_input": "2022-09-21T09:17:20.616868Z",
     "iopub.status.busy": "2022-09-21T09:17:20.616410Z",
     "iopub.status.idle": "2022-09-21T09:17:20.623313Z",
     "shell.execute_reply": "2022-09-21T09:17:20.621934Z"
    },
    "papermill": {
     "duration": 0.015348,
     "end_time": "2022-09-21T09:17:20.625829",
     "exception": false,
     "start_time": "2022-09-21T09:17:20.610481",
     "status": "completed"
    },
    "tags": []
   },
   "outputs": [],
   "source": [
    "# Binary cross entropy loss\n",
    "loss = nn.BCELoss()\n",
    "\n",
    "# Adam optimiser\n",
    "optimiser = torch.optim.Adam(params = model.parameters(), lr=0.01)"
   ]
  },
  {
   "cell_type": "markdown",
   "id": "963e659e",
   "metadata": {
    "papermill": {
     "duration": 0.004163,
     "end_time": "2022-09-21T09:17:20.634550",
     "exception": false,
     "start_time": "2022-09-21T09:17:20.630387",
     "status": "completed"
    },
    "tags": []
   },
   "source": [
    "# 4. Write a training loop\n",
    "\n",
    "The most **important** thing to remember with PyTorch is that after every epoch, you have to **zero the gradients** (otherwise they will accumulate and explode)."
   ]
  },
  {
   "cell_type": "code",
   "execution_count": 9,
   "id": "9ef0f87e",
   "metadata": {
    "execution": {
     "iopub.execute_input": "2022-09-21T09:17:20.645471Z",
     "iopub.status.busy": "2022-09-21T09:17:20.644620Z",
     "iopub.status.idle": "2022-09-21T09:17:20.769656Z",
     "shell.execute_reply": "2022-09-21T09:17:20.768179Z"
    },
    "papermill": {
     "duration": 0.133642,
     "end_time": "2022-09-21T09:17:20.772643",
     "exception": false,
     "start_time": "2022-09-21T09:17:20.639001",
     "status": "completed"
    },
    "tags": []
   },
   "outputs": [
    {
     "name": "stdout",
     "output_type": "stream",
     "text": [
      "Epoch 0, loss 0.946\n",
      "Epoch 20, loss 0.252\n",
      "Epoch 40, loss 0.156\n",
      "Epoch 60, loss 0.127\n",
      "Epoch 80, loss 0.112\n",
      "Epoch 100, loss 0.103\n",
      "Epoch 120, loss 0.096\n",
      "Epoch 140, loss 0.090\n",
      "Epoch 160, loss 0.086\n",
      "Epoch 180, loss 0.082\n"
     ]
    }
   ],
   "source": [
    "n_iters = 200\n",
    "\n",
    "# Loop\n",
    "for epoch in range(n_iters):\n",
    "    # Forward pass\n",
    "    y_preds = model(X_train)\n",
    "    L = loss(y_preds, y_train)\n",
    "    \n",
    "    # Backprop\n",
    "    L.backward()\n",
    "    \n",
    "    # Update parameters\n",
    "    optimiser.step()\n",
    "    \n",
    "    # Zero gradients\n",
    "    optimiser.zero_grad()\n",
    "    \n",
    "    # Print loss\n",
    "    if epoch % 20 == 0:\n",
    "        print(f'Epoch {epoch}, loss {L.item():.3f}')"
   ]
  },
  {
   "cell_type": "markdown",
   "id": "e3616bf8",
   "metadata": {
    "papermill": {
     "duration": 0.004357,
     "end_time": "2022-09-21T09:17:20.781795",
     "exception": false,
     "start_time": "2022-09-21T09:17:20.777438",
     "status": "completed"
    },
    "tags": []
   },
   "source": [
    "# Evaluate\n",
    "\n",
    "Finally, we calculate the accuracy on the test set."
   ]
  },
  {
   "cell_type": "code",
   "execution_count": 10,
   "id": "6ba25f7f",
   "metadata": {
    "execution": {
     "iopub.execute_input": "2022-09-21T09:17:20.793243Z",
     "iopub.status.busy": "2022-09-21T09:17:20.792811Z",
     "iopub.status.idle": "2022-09-21T09:17:20.801634Z",
     "shell.execute_reply": "2022-09-21T09:17:20.800183Z"
    },
    "papermill": {
     "duration": 0.018237,
     "end_time": "2022-09-21T09:17:20.804606",
     "exception": false,
     "start_time": "2022-09-21T09:17:20.786369",
     "status": "completed"
    },
    "tags": []
   },
   "outputs": [
    {
     "name": "stdout",
     "output_type": "stream",
     "text": [
      "Accuracy on test set: 95.61 %\n"
     ]
    }
   ],
   "source": [
    "# Turn gradient tracking off\n",
    "with torch.no_grad():\n",
    "    acc = model(X_test).round().eq(y_test).sum() / len(y_test.numpy())\n",
    "    print(f'Accuracy on test set: {100*acc.item():.2f} %')"
   ]
  },
  {
   "cell_type": "markdown",
   "id": "162826b6",
   "metadata": {
    "papermill": {
     "duration": 0.004613,
     "end_time": "2022-09-21T09:17:20.814428",
     "exception": false,
     "start_time": "2022-09-21T09:17:20.809815",
     "status": "completed"
    },
    "tags": []
   },
   "source": [
    "**Check out my other PyTorch tutorials**\n",
    "\n",
    "1. [PT1 - Linear Regression with PyTorch](https://www.kaggle.com/code/samuelcortinhas/pt1-linear-regression-with-pytorch/notebook)\n",
    "2. [PT2 - Logistic Regression with PyTorch](https://www.kaggle.com/code/samuelcortinhas/pt2-logistic-regression-with-pytorch)\n",
    "3. [PT3 - Neural Networks with PyTorch](https://www.kaggle.com/code/samuelcortinhas/pt3-neural-networks-with-pytorch)\n",
    "4. [PT4 - CNNs with PyTorch](https://www.kaggle.com/samuelcortinhas/pt4-cnns-with-pytorch)\n",
    "5. [PT5 - Save & load models with PyTorch](https://www.kaggle.com/samuelcortinhas/pt5-save-load-models-with-pytorch)"
   ]
  }
 ],
 "metadata": {
  "kernelspec": {
   "display_name": "Python 3",
   "language": "python",
   "name": "python3"
  },
  "language_info": {
   "codemirror_mode": {
    "name": "ipython",
    "version": 3
   },
   "file_extension": ".py",
   "mimetype": "text/x-python",
   "name": "python",
   "nbconvert_exporter": "python",
   "pygments_lexer": "ipython3",
   "version": "3.7.12"
  },
  "papermill": {
   "default_parameters": {},
   "duration": 14.312496,
   "end_time": "2022-09-21T09:17:21.742491",
   "environment_variables": {},
   "exception": null,
   "input_path": "__notebook__.ipynb",
   "output_path": "__notebook__.ipynb",
   "parameters": {},
   "start_time": "2022-09-21T09:17:07.429995",
   "version": "2.3.4"
  }
 },
 "nbformat": 4,
 "nbformat_minor": 5
}
