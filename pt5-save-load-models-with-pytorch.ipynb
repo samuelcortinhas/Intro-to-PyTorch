{
 "cells": [
  {
   "cell_type": "markdown",
   "id": "cc83b880",
   "metadata": {
    "papermill": {
     "duration": 0.020092,
     "end_time": "2022-09-21T11:09:25.208171",
     "exception": false,
     "start_time": "2022-09-21T11:09:25.188079",
     "status": "completed"
    },
    "tags": []
   },
   "source": [
    "# Introduction\n",
    "\n",
    "In this notebook, we will practice using **PyTorch** to **save and load models**. We will train a **CNN** for the **CIFAR image classification** task.\n",
    "\n",
    "<br>\n",
    "\n",
    "**Libraries**"
   ]
  },
  {
   "cell_type": "code",
   "execution_count": 1,
   "id": "deb0683a",
   "metadata": {
    "execution": {
     "iopub.execute_input": "2022-09-21T11:09:25.254627Z",
     "iopub.status.busy": "2022-09-21T11:09:25.253242Z",
     "iopub.status.idle": "2022-09-21T11:09:28.395502Z",
     "shell.execute_reply": "2022-09-21T11:09:28.396022Z",
     "shell.execute_reply.started": "2022-08-24T19:55:11.958199Z"
    },
    "papermill": {
     "duration": 3.169088,
     "end_time": "2022-09-21T11:09:28.396389",
     "exception": false,
     "start_time": "2022-09-21T11:09:25.227301",
     "status": "completed"
    },
    "tags": []
   },
   "outputs": [],
   "source": [
    "# Core\n",
    "import numpy as np\n",
    "import pandas as pd\n",
    "import seaborn as sns\n",
    "sns.set_style('darkgrid')\n",
    "sns.set(style='darkgrid', font_scale=1.4)\n",
    "import matplotlib.pyplot as plt\n",
    "%matplotlib inline\n",
    "import random\n",
    "\n",
    "# Sklearn\n",
    "from sklearn.model_selection import train_test_split\n",
    "from sklearn.preprocessing import StandardScaler, OneHotEncoder\n",
    "from sklearn.impute import SimpleImputer\n",
    "from sklearn.pipeline import make_pipeline\n",
    "from sklearn.compose import make_column_transformer\n",
    "\n",
    "# Pytorch\n",
    "import torch\n",
    "import torch.nn as nn\n",
    "import torch.optim as optim\n",
    "import torch.optim.lr_scheduler as lr_scheduler\n",
    "from torch.utils.data import Dataset, DataLoader\n",
    "import torchvision\n",
    "from torchvision import transforms"
   ]
  },
  {
   "cell_type": "markdown",
   "id": "254cb07b",
   "metadata": {
    "papermill": {
     "duration": 0.018747,
     "end_time": "2022-09-21T11:09:28.433524",
     "exception": false,
     "start_time": "2022-09-21T11:09:28.414777",
     "status": "completed"
    },
    "tags": []
   },
   "source": [
    "**Reproducibility**"
   ]
  },
  {
   "cell_type": "code",
   "execution_count": 2,
   "id": "2e169156",
   "metadata": {
    "execution": {
     "iopub.execute_input": "2022-09-21T11:09:28.476138Z",
     "iopub.status.busy": "2022-09-21T11:09:28.475424Z",
     "iopub.status.idle": "2022-09-21T11:09:28.483359Z",
     "shell.execute_reply": "2022-09-21T11:09:28.482612Z",
     "shell.execute_reply.started": "2022-08-24T19:55:11.972280Z"
    },
    "papermill": {
     "duration": 0.031843,
     "end_time": "2022-09-21T11:09:28.483519",
     "exception": false,
     "start_time": "2022-09-21T11:09:28.451676",
     "status": "completed"
    },
    "tags": []
   },
   "outputs": [],
   "source": [
    "# Random seeds\n",
    "def set_seed(seed=0):\n",
    "    np.random.seed(seed)\n",
    "    random.seed(seed)\n",
    "    torch.manual_seed(seed)\n",
    "set_seed()"
   ]
  },
  {
   "cell_type": "markdown",
   "id": "17ab5c83",
   "metadata": {
    "papermill": {
     "duration": 0.016907,
     "end_time": "2022-09-21T11:09:28.518062",
     "exception": false,
     "start_time": "2022-09-21T11:09:28.501155",
     "status": "completed"
    },
    "tags": []
   },
   "source": [
    "**Config**"
   ]
  },
  {
   "cell_type": "code",
   "execution_count": 3,
   "id": "ace8533e",
   "metadata": {
    "execution": {
     "iopub.execute_input": "2022-09-21T11:09:28.558654Z",
     "iopub.status.busy": "2022-09-21T11:09:28.557841Z",
     "iopub.status.idle": "2022-09-21T11:09:28.560242Z",
     "shell.execute_reply": "2022-09-21T11:09:28.560707Z",
     "shell.execute_reply.started": "2022-08-24T19:55:11.984982Z"
    },
    "papermill": {
     "duration": 0.025293,
     "end_time": "2022-09-21T11:09:28.560902",
     "exception": false,
     "start_time": "2022-09-21T11:09:28.535609",
     "status": "completed"
    },
    "tags": []
   },
   "outputs": [],
   "source": [
    "# Hyperparameters\n",
    "BATCH_SIZE = 64\n",
    "LEARNING_RATE = 0.01\n",
    "N_EPOCHS = 20"
   ]
  },
  {
   "cell_type": "markdown",
   "id": "30aa5139",
   "metadata": {
    "papermill": {
     "duration": 0.0169,
     "end_time": "2022-09-21T11:09:28.595065",
     "exception": false,
     "start_time": "2022-09-21T11:09:28.578165",
     "status": "completed"
    },
    "tags": []
   },
   "source": [
    "Connect to **GPU** if available, otherwise use the **CPU**."
   ]
  },
  {
   "cell_type": "code",
   "execution_count": 4,
   "id": "3efe7e7f",
   "metadata": {
    "execution": {
     "iopub.execute_input": "2022-09-21T11:09:28.639489Z",
     "iopub.status.busy": "2022-09-21T11:09:28.638643Z",
     "iopub.status.idle": "2022-09-21T11:09:28.642210Z",
     "shell.execute_reply": "2022-09-21T11:09:28.642728Z",
     "shell.execute_reply.started": "2022-08-24T19:55:11.998364Z"
    },
    "papermill": {
     "duration": 0.02984,
     "end_time": "2022-09-21T11:09:28.642919",
     "exception": false,
     "start_time": "2022-09-21T11:09:28.613079",
     "status": "completed"
    },
    "tags": []
   },
   "outputs": [
    {
     "data": {
      "text/plain": [
       "device(type='cpu')"
      ]
     },
     "execution_count": 4,
     "metadata": {},
     "output_type": "execute_result"
    }
   ],
   "source": [
    "# Config device\n",
    "device = torch.device('cuda' if torch.cuda.is_available() else 'cpu')\n",
    "device"
   ]
  },
  {
   "cell_type": "markdown",
   "id": "e39afd24",
   "metadata": {
    "papermill": {
     "duration": 0.017135,
     "end_time": "2022-09-21T11:09:28.678576",
     "exception": false,
     "start_time": "2022-09-21T11:09:28.661441",
     "status": "completed"
    },
    "tags": []
   },
   "source": [
    "To use the **device**, in general we need to send the **model**, **features** and **labels** to the device.\n",
    "1. `model.to(device)`\n",
    "2. `features = features.to(device)`\n",
    "3. `labels = labels.to(device)`"
   ]
  },
  {
   "cell_type": "markdown",
   "id": "76d4df50",
   "metadata": {
    "papermill": {
     "duration": 0.017293,
     "end_time": "2022-09-21T11:09:28.713373",
     "exception": false,
     "start_time": "2022-09-21T11:09:28.696080",
     "status": "completed"
    },
    "tags": []
   },
   "source": [
    "# Data"
   ]
  },
  {
   "cell_type": "markdown",
   "id": "2052fdaa",
   "metadata": {
    "papermill": {
     "duration": 0.017342,
     "end_time": "2022-09-21T11:09:28.748357",
     "exception": false,
     "start_time": "2022-09-21T11:09:28.731015",
     "status": "completed"
    },
    "tags": []
   },
   "source": [
    "A **dataloader** will feed in **batches** of training examples to the model. This is especially **useful** for very **large datasets** where you can't load the whole dataset in one go. "
   ]
  },
  {
   "cell_type": "code",
   "execution_count": 5,
   "id": "7d749a36",
   "metadata": {
    "execution": {
     "iopub.execute_input": "2022-09-21T11:09:28.789326Z",
     "iopub.status.busy": "2022-09-21T11:09:28.788362Z",
     "iopub.status.idle": "2022-09-21T11:09:28.791291Z",
     "shell.execute_reply": "2022-09-21T11:09:28.790759Z",
     "shell.execute_reply.started": "2022-08-24T19:55:12.011216Z"
    },
    "papermill": {
     "duration": 0.025596,
     "end_time": "2022-09-21T11:09:28.791456",
     "exception": false,
     "start_time": "2022-09-21T11:09:28.765860",
     "status": "completed"
    },
    "tags": []
   },
   "outputs": [],
   "source": [
    "# Transformations\n",
    "transform = transforms.Compose([transforms.ToTensor(),transforms.Normalize((0.5,0.5,0.5),(0.5,0.5,0.5))])"
   ]
  },
  {
   "cell_type": "code",
   "execution_count": 6,
   "id": "27cb54dd",
   "metadata": {
    "execution": {
     "iopub.execute_input": "2022-09-21T11:09:28.830389Z",
     "iopub.status.busy": "2022-09-21T11:09:28.829664Z",
     "iopub.status.idle": "2022-09-21T11:09:39.142140Z",
     "shell.execute_reply": "2022-09-21T11:09:39.142710Z",
     "shell.execute_reply.started": "2022-08-24T19:55:12.021755Z"
    },
    "papermill": {
     "duration": 10.333807,
     "end_time": "2022-09-21T11:09:39.142930",
     "exception": false,
     "start_time": "2022-09-21T11:09:28.809123",
     "status": "completed"
    },
    "tags": []
   },
   "outputs": [
    {
     "name": "stdout",
     "output_type": "stream",
     "text": [
      "Downloading https://www.cs.toronto.edu/~kriz/cifar-10-python.tar.gz to ./data/cifar-10-python.tar.gz\n"
     ]
    },
    {
     "data": {
      "application/vnd.jupyter.widget-view+json": {
       "model_id": "bb378b604d0843d3b92418de90b72316",
       "version_major": 2,
       "version_minor": 0
      },
      "text/plain": [
       "  0%|          | 0/170498071 [00:00<?, ?it/s]"
      ]
     },
     "metadata": {},
     "output_type": "display_data"
    },
    {
     "name": "stdout",
     "output_type": "stream",
     "text": [
      "Extracting ./data/cifar-10-python.tar.gz to ./data\n"
     ]
    }
   ],
   "source": [
    "# Dataset\n",
    "train_dataset = torchvision.datasets.CIFAR10(root='./data', train=True, transform=transform, download=True)\n",
    "test_dataset = torchvision.datasets.CIFAR10(root='./data', train=False, transform=transform, download=False)"
   ]
  },
  {
   "cell_type": "code",
   "execution_count": 7,
   "id": "6af17543",
   "metadata": {
    "execution": {
     "iopub.execute_input": "2022-09-21T11:09:39.186502Z",
     "iopub.status.busy": "2022-09-21T11:09:39.185489Z",
     "iopub.status.idle": "2022-09-21T11:09:39.187811Z",
     "shell.execute_reply": "2022-09-21T11:09:39.188299Z",
     "shell.execute_reply.started": "2022-08-24T19:55:13.424891Z"
    },
    "papermill": {
     "duration": 0.026718,
     "end_time": "2022-09-21T11:09:39.188497",
     "exception": false,
     "start_time": "2022-09-21T11:09:39.161779",
     "status": "completed"
    },
    "tags": []
   },
   "outputs": [],
   "source": [
    "# Dataloader\n",
    "train_loader = DataLoader(dataset=train_dataset, batch_size=BATCH_SIZE, shuffle=True)\n",
    "test_loader = DataLoader(dataset=test_dataset, batch_size=BATCH_SIZE, shuffle=False)"
   ]
  },
  {
   "cell_type": "code",
   "execution_count": 8,
   "id": "baf08398",
   "metadata": {
    "execution": {
     "iopub.execute_input": "2022-09-21T11:09:39.230042Z",
     "iopub.status.busy": "2022-09-21T11:09:39.229073Z",
     "iopub.status.idle": "2022-09-21T11:09:39.232801Z",
     "shell.execute_reply": "2022-09-21T11:09:39.233274Z",
     "shell.execute_reply.started": "2022-08-24T19:55:13.435889Z"
    },
    "papermill": {
     "duration": 0.025691,
     "end_time": "2022-09-21T11:09:39.233454",
     "exception": false,
     "start_time": "2022-09-21T11:09:39.207763",
     "status": "completed"
    },
    "tags": []
   },
   "outputs": [],
   "source": [
    "# List of class names\n",
    "classes = ['plane','car','bird','cat','deer','dog','frog','horse','ship','truck']"
   ]
  },
  {
   "cell_type": "markdown",
   "id": "3ebddbfe",
   "metadata": {
    "papermill": {
     "duration": 0.01887,
     "end_time": "2022-09-21T11:09:39.270801",
     "exception": false,
     "start_time": "2022-09-21T11:09:39.251931",
     "status": "completed"
    },
    "tags": []
   },
   "source": [
    "# Model\n",
    "\n",
    "When working with **neural networks**, we need to **inherit** the `nn.Module` and define a `forward` attribute. The inheritance part is done to get access to **attributes** like `model.parameters()`, which are used in training. \n",
    "\n",
    "Note that we **don't** need to apply **softmax** at the end because our loss function will apply it for us."
   ]
  },
  {
   "cell_type": "code",
   "execution_count": 9,
   "id": "2bfd6c23",
   "metadata": {
    "execution": {
     "iopub.execute_input": "2022-09-21T11:09:39.312031Z",
     "iopub.status.busy": "2022-09-21T11:09:39.311035Z",
     "iopub.status.idle": "2022-09-21T11:09:39.363877Z",
     "shell.execute_reply": "2022-09-21T11:09:39.363154Z",
     "shell.execute_reply.started": "2022-08-24T19:55:13.445924Z"
    },
    "papermill": {
     "duration": 0.074684,
     "end_time": "2022-09-21T11:09:39.364034",
     "exception": false,
     "start_time": "2022-09-21T11:09:39.289350",
     "status": "completed"
    },
    "tags": []
   },
   "outputs": [],
   "source": [
    "# Model\n",
    "class ConvNet(nn.Module):\n",
    "    def __init__(self):\n",
    "        super().__init__()\n",
    "        \n",
    "        # Layers\n",
    "        self.conv1=nn.Conv2d(in_channels=3, out_channels=16, kernel_size=5, stride=1, padding=0)\n",
    "        self.pool=nn.MaxPool2d(kernel_size=2, stride=2, padding=0)\n",
    "        self.conv2=nn.Conv2d(in_channels=16, out_channels=32, kernel_size=5, stride=1, padding=0)\n",
    "        self.flat=nn.Flatten()\n",
    "        self.fc1=nn.Linear(in_features=32*5*5, out_features=128)\n",
    "        self.fc2=nn.Linear(in_features=128, out_features=64)\n",
    "        self.fc3=nn.Linear(in_features=64, out_features=10)\n",
    "        self.relu=nn.ReLU()\n",
    "    \n",
    "    def forward(self, x):\n",
    "        # Block 1\n",
    "        out = self.conv1(x)\n",
    "        out = self.relu(out)\n",
    "        out = self.pool(out)\n",
    "        \n",
    "        # Block 2\n",
    "        out = self.conv2(out)\n",
    "        out = self.relu(out)\n",
    "        out = self.pool(out)\n",
    "        \n",
    "        # FC1\n",
    "        out = self.flat(out)\n",
    "        out = self.fc1(out)\n",
    "        out = self.relu(out)\n",
    "        \n",
    "        # FC2\n",
    "        out = self.fc2(out)\n",
    "        out = self.relu(out)\n",
    "        \n",
    "        # FC3\n",
    "        out = self.fc3(out)\n",
    "        return out\n",
    "\n",
    "model = ConvNet().to(device)"
   ]
  },
  {
   "cell_type": "markdown",
   "id": "466c1d59",
   "metadata": {
    "papermill": {
     "duration": 0.018123,
     "end_time": "2022-09-21T11:09:39.400974",
     "exception": false,
     "start_time": "2022-09-21T11:09:39.382851",
     "status": "completed"
    },
    "tags": []
   },
   "source": [
    "# Loss & optimiser\n",
    "\n",
    "The **loss** function is called from the `torch.nn` library and the **optimiser** from the `torch.optim` library. Note that we need to input the model **parameters** into the optimiser.\n",
    "\n",
    "We also use a **learning rate scheduler** to gradually reduce the learning rate over time."
   ]
  },
  {
   "cell_type": "code",
   "execution_count": 10,
   "id": "284f1b16",
   "metadata": {
    "execution": {
     "iopub.execute_input": "2022-09-21T11:09:39.444621Z",
     "iopub.status.busy": "2022-09-21T11:09:39.443728Z",
     "iopub.status.idle": "2022-09-21T11:09:39.446864Z",
     "shell.execute_reply": "2022-09-21T11:09:39.446349Z",
     "shell.execute_reply.started": "2022-08-24T19:55:13.461611Z"
    },
    "papermill": {
     "duration": 0.027597,
     "end_time": "2022-09-21T11:09:39.447014",
     "exception": false,
     "start_time": "2022-09-21T11:09:39.419417",
     "status": "completed"
    },
    "tags": []
   },
   "outputs": [],
   "source": [
    "# Loss\n",
    "loss = nn.CrossEntropyLoss()\n",
    "\n",
    "# Optimiser\n",
    "optimiser = optim.SGD(params=model.parameters(), lr=LEARNING_RATE)\n",
    "\n",
    "# Learning rate scheduler\n",
    "scheduler = lr_scheduler.CosineAnnealingLR(optimiser, T_max=N_EPOCHS)"
   ]
  },
  {
   "cell_type": "markdown",
   "id": "229daea6",
   "metadata": {
    "papermill": {
     "duration": 0.018577,
     "end_time": "2022-09-21T11:09:39.484782",
     "exception": false,
     "start_time": "2022-09-21T11:09:39.466205",
     "status": "completed"
    },
    "tags": []
   },
   "source": [
    "# Train model\n",
    "\n",
    "The most **important** thing to remember with PyTorch is that after every epoch, you have to **zero the gradients** (otherwise they will accumulate and explode). Other than that, we need to perform the **forward pass**, **backward pass**, and **update the parameters**."
   ]
  },
  {
   "cell_type": "code",
   "execution_count": 11,
   "id": "80091ee1",
   "metadata": {
    "execution": {
     "iopub.execute_input": "2022-09-21T11:09:39.533725Z",
     "iopub.status.busy": "2022-09-21T11:09:39.532927Z",
     "iopub.status.idle": "2022-09-21T11:17:34.592830Z",
     "shell.execute_reply": "2022-09-21T11:17:34.593386Z"
    },
    "papermill": {
     "duration": 475.090139,
     "end_time": "2022-09-21T11:17:34.593578",
     "exception": false,
     "start_time": "2022-09-21T11:09:39.503439",
     "status": "completed"
    },
    "tags": []
   },
   "outputs": [
    {
     "name": "stdout",
     "output_type": "stream",
     "text": [
      "Epoch 1/20, loss 2.29980\n",
      "Epoch 2/20, loss 2.18798\n",
      "Epoch 3/20, loss 1.91091\n",
      "Epoch 4/20, loss 1.71794\n",
      "Epoch 5/20, loss 1.59358\n",
      "Epoch 6/20, loss 1.50920\n",
      "Epoch 7/20, loss 1.44012\n",
      "Epoch 8/20, loss 1.38323\n",
      "Epoch 9/20, loss 1.33632\n",
      "Epoch 10/20, loss 1.29362\n",
      "Epoch 11/20, loss 1.25689\n",
      "Epoch 12/20, loss 1.22460\n",
      "Epoch 13/20, loss 1.19628\n",
      "Epoch 14/20, loss 1.17518\n",
      "Epoch 15/20, loss 1.15627\n",
      "Epoch 16/20, loss 1.14290\n",
      "Epoch 17/20, loss 1.13267\n",
      "Epoch 18/20, loss 1.12412\n",
      "Epoch 19/20, loss 1.11993\n",
      "Epoch 20/20, loss 1.11819\n",
      "\n",
      "Training complete\n"
     ]
    }
   ],
   "source": [
    "# Loop over epochs\n",
    "for epoch in range(N_EPOCHS):\n",
    "    loss_acc = 0\n",
    "    train_count = 0\n",
    "    \n",
    "    # Loop over batches\n",
    "    for i, (imgs, labels) in enumerate(train_loader):\n",
    "        # Reshape\n",
    "        imgs = imgs.to(device)\n",
    "        labels = labels.to(device)\n",
    "        \n",
    "        # Forward pass\n",
    "        preds = model(imgs)\n",
    "        L = loss(preds,labels)\n",
    "        \n",
    "        # Backprop\n",
    "        L.backward()\n",
    "        \n",
    "        # Update parameters\n",
    "        optimiser.step()\n",
    "        \n",
    "        # Zero gradients\n",
    "        optimiser.zero_grad()\n",
    "        \n",
    "        # Track loss\n",
    "        loss_acc += L.detach().item()\n",
    "        train_count += 1\n",
    "    \n",
    "    # Update learning rate\n",
    "    scheduler.step()\n",
    "        \n",
    "    # Print loss\n",
    "    if (epoch+1)%1==0:\n",
    "        print(f'Epoch {epoch+1}/{N_EPOCHS}, loss {loss_acc/train_count:.5f}')\n",
    "        \n",
    "print('')\n",
    "print('Training complete')"
   ]
  },
  {
   "cell_type": "markdown",
   "id": "5f1742a4",
   "metadata": {
    "papermill": {
     "duration": 0.024109,
     "end_time": "2022-09-21T11:17:34.641750",
     "exception": false,
     "start_time": "2022-09-21T11:17:34.617641",
     "status": "completed"
    },
    "tags": []
   },
   "source": [
    "# Save model\n",
    "\n",
    "Saving in PyTorch allows us to save the **current state** of the **model** and also any other objects like the **optimiser**, **learning rate** etc. It is very **flexible** and **easy** to use."
   ]
  },
  {
   "cell_type": "code",
   "execution_count": 12,
   "id": "61f5bb5a",
   "metadata": {
    "execution": {
     "iopub.execute_input": "2022-09-21T11:17:34.696921Z",
     "iopub.status.busy": "2022-09-21T11:17:34.695732Z",
     "iopub.status.idle": "2022-09-21T11:17:34.700398Z",
     "shell.execute_reply": "2022-09-21T11:17:34.700900Z"
    },
    "papermill": {
     "duration": 0.035192,
     "end_time": "2022-09-21T11:17:34.701084",
     "exception": false,
     "start_time": "2022-09-21T11:17:34.665892",
     "status": "completed"
    },
    "tags": []
   },
   "outputs": [],
   "source": [
    "# Path\n",
    "PATH = \"ConvNet.pt\"\n",
    "\n",
    "# Save\n",
    "torch.save({\n",
    "            'epoch': N_EPOCHS,\n",
    "            'model_state_dict': model.state_dict(),\n",
    "            'optimiser_state_dict': optimiser.state_dict(),\n",
    "            'scheduler_state_dict': scheduler.state_dict(),\n",
    "            'loss': loss_acc/train_count,\n",
    "            }, PATH)"
   ]
  },
  {
   "cell_type": "markdown",
   "id": "7f4ef6f2",
   "metadata": {
    "papermill": {
     "duration": 0.024315,
     "end_time": "2022-09-21T11:17:34.750013",
     "exception": false,
     "start_time": "2022-09-21T11:17:34.725698",
     "status": "completed"
    },
    "tags": []
   },
   "source": [
    "# Load model\n",
    "\n",
    "First we need to **initialise** the (same) **model**, **optimiser** etc and then we can load the **dictionary** locally. It is important to call `model.eval()` to set dropout and batch normalization layers to **evaluation mode** before running **inference**."
   ]
  },
  {
   "cell_type": "code",
   "execution_count": 13,
   "id": "277a2ace",
   "metadata": {
    "execution": {
     "iopub.execute_input": "2022-09-21T11:17:34.805477Z",
     "iopub.status.busy": "2022-09-21T11:17:34.804751Z",
     "iopub.status.idle": "2022-09-21T11:17:34.815924Z",
     "shell.execute_reply": "2022-09-21T11:17:34.816532Z"
    },
    "papermill": {
     "duration": 0.042405,
     "end_time": "2022-09-21T11:17:34.816706",
     "exception": false,
     "start_time": "2022-09-21T11:17:34.774301",
     "status": "completed"
    },
    "tags": []
   },
   "outputs": [
    {
     "data": {
      "text/plain": [
       "ConvNet(\n",
       "  (conv1): Conv2d(3, 16, kernel_size=(5, 5), stride=(1, 1))\n",
       "  (pool): MaxPool2d(kernel_size=2, stride=2, padding=0, dilation=1, ceil_mode=False)\n",
       "  (conv2): Conv2d(16, 32, kernel_size=(5, 5), stride=(1, 1))\n",
       "  (flat): Flatten(start_dim=1, end_dim=-1)\n",
       "  (fc1): Linear(in_features=800, out_features=128, bias=True)\n",
       "  (fc2): Linear(in_features=128, out_features=64, bias=True)\n",
       "  (fc3): Linear(in_features=64, out_features=10, bias=True)\n",
       "  (relu): ReLU()\n",
       ")"
      ]
     },
     "execution_count": 13,
     "metadata": {},
     "output_type": "execute_result"
    }
   ],
   "source": [
    "# Initialise model and optimiser\n",
    "model = ConvNet().to(device)\n",
    "optimiser = optim.SGD(params=model.parameters(), lr=LEARNING_RATE)\n",
    "scheduler = lr_scheduler.CosineAnnealingLR(optimiser, T_max=N_EPOCHS)\n",
    "\n",
    "# Load checkpoint\n",
    "checkpoint = torch.load(PATH)\n",
    "\n",
    "# Load states\n",
    "model.load_state_dict(checkpoint['model_state_dict'])\n",
    "optimiser.load_state_dict(checkpoint['optimiser_state_dict'])\n",
    "scheduler.load_state_dict(checkpoint['scheduler_state_dict'])\n",
    "epoch = checkpoint['epoch']\n",
    "loss = checkpoint['loss']\n",
    "\n",
    "# Keep on training or evaluate model\n",
    "#model.train()\n",
    "model.eval()"
   ]
  },
  {
   "cell_type": "markdown",
   "id": "1b97167d",
   "metadata": {
    "papermill": {
     "duration": 0.024636,
     "end_time": "2022-09-21T11:17:34.866404",
     "exception": false,
     "start_time": "2022-09-21T11:17:34.841768",
     "status": "completed"
    },
    "tags": []
   },
   "source": [
    "# Evaluate"
   ]
  },
  {
   "cell_type": "markdown",
   "id": "e27a8b1a",
   "metadata": {
    "papermill": {
     "duration": 0.024372,
     "end_time": "2022-09-21T11:17:34.915668",
     "exception": false,
     "start_time": "2022-09-21T11:17:34.891296",
     "status": "completed"
    },
    "tags": []
   },
   "source": [
    "Let's explore our model's **accuracy** on the **test set**."
   ]
  },
  {
   "cell_type": "code",
   "execution_count": 14,
   "id": "9b0cd451",
   "metadata": {
    "execution": {
     "iopub.execute_input": "2022-09-21T11:17:34.968024Z",
     "iopub.status.busy": "2022-09-21T11:17:34.967377Z",
     "iopub.status.idle": "2022-09-21T11:17:38.321837Z",
     "shell.execute_reply": "2022-09-21T11:17:38.321078Z"
    },
    "papermill": {
     "duration": 3.381744,
     "end_time": "2022-09-21T11:17:38.322054",
     "exception": false,
     "start_time": "2022-09-21T11:17:34.940310",
     "status": "completed"
    },
    "tags": []
   },
   "outputs": [
    {
     "name": "stdout",
     "output_type": "stream",
     "text": [
      "Overall accuracy on test set: 59.3 %\n",
      "Accuracy of plane: 63.9 %\n",
      "Accuracy of car: 71.0 %\n",
      "Accuracy of bird: 45.9 %\n",
      "Accuracy of cat: 39.1 %\n",
      "Accuracy of deer: 42.3 %\n",
      "Accuracy of dog: 50.4 %\n",
      "Accuracy of frog: 74.4 %\n",
      "Accuracy of horse: 66.8 %\n",
      "Accuracy of ship: 74.2 %\n",
      "Accuracy of truck: 65.0 %\n"
     ]
    }
   ],
   "source": [
    "with torch.no_grad():\n",
    "    n_correct=0\n",
    "    n_samples=0\n",
    "    \n",
    "    n_class_correct = [0 for i in range(10)]\n",
    "    n_class_sample = [0 for i in range(10)]\n",
    "    \n",
    "    for imgs, labels in test_loader:\n",
    "        imgs = imgs.to(device)\n",
    "        labels = labels.to(device)\n",
    "        output = model(imgs)\n",
    "        \n",
    "        _, preds = torch.max(output, 1)\n",
    "        \n",
    "        n_samples += labels.shape[0]\n",
    "        n_correct += (preds == labels).sum().item()\n",
    "        \n",
    "        for i in range(BATCH_SIZE):\n",
    "            try:\n",
    "                label = labels[i].item()\n",
    "                pred = preds[i].item()\n",
    "            except:\n",
    "                break\n",
    "            \n",
    "            if (label==pred):\n",
    "                n_class_correct[label]+=1\n",
    "            n_class_sample[label]+=1\n",
    "    \n",
    "    acc = 100 * n_correct/n_samples\n",
    "    print(f'Overall accuracy on test set: {acc:.1f} %')\n",
    "    \n",
    "    for i in range(10):\n",
    "        print(f'Accuracy of {classes[i]}: {100* n_class_correct[i]/n_class_sample[i]:.1f} %')"
   ]
  },
  {
   "cell_type": "markdown",
   "id": "7cbeb423",
   "metadata": {
    "papermill": {
     "duration": 0.026129,
     "end_time": "2022-09-21T11:17:38.374117",
     "exception": false,
     "start_time": "2022-09-21T11:17:38.347988",
     "status": "completed"
    },
    "tags": []
   },
   "source": [
    "**Check out my other PyTorch tutorials**\n",
    "\n",
    "1. [PT1 - Linear Regression with PyTorch](https://www.kaggle.com/code/samuelcortinhas/pt1-linear-regression-with-pytorch/notebook)\n",
    "2. [PT2 - Logistic Regression with PyTorch](https://www.kaggle.com/code/samuelcortinhas/pt2-logistic-regression-with-pytorch)\n",
    "3. [PT3 - Neural Networks with PyTorch](https://www.kaggle.com/code/samuelcortinhas/pt3-neural-networks-with-pytorch)\n",
    "4. [PT4 - CNNs with PyTorch](https://www.kaggle.com/samuelcortinhas/pt4-cnns-with-pytorch)\n",
    "5. [PT5 - Save & load models with PyTorch](https://www.kaggle.com/samuelcortinhas/pt5-save-load-models-with-pytorch)"
   ]
  }
 ],
 "metadata": {
  "kernelspec": {
   "display_name": "Python 3",
   "language": "python",
   "name": "python3"
  },
  "language_info": {
   "codemirror_mode": {
    "name": "ipython",
    "version": 3
   },
   "file_extension": ".py",
   "mimetype": "text/x-python",
   "name": "python",
   "nbconvert_exporter": "python",
   "pygments_lexer": "ipython3",
   "version": "3.7.10"
  },
  "papermill": {
   "default_parameters": {},
   "duration": 503.83901,
   "end_time": "2022-09-21T11:17:39.316109",
   "environment_variables": {},
   "exception": null,
   "input_path": "__notebook__.ipynb",
   "output_path": "__notebook__.ipynb",
   "parameters": {},
   "start_time": "2022-09-21T11:09:15.477099",
   "version": "2.3.3"
  },
  "widgets": {
   "application/vnd.jupyter.widget-state+json": {
    "state": {
     "1027e9ad9b454d1d95a8093d7a5ac154": {
      "model_module": "@jupyter-widgets/base",
      "model_module_version": "1.2.0",
      "model_name": "LayoutModel",
      "state": {
       "_model_module": "@jupyter-widgets/base",
       "_model_module_version": "1.2.0",
       "_model_name": "LayoutModel",
       "_view_count": null,
       "_view_module": "@jupyter-widgets/base",
       "_view_module_version": "1.2.0",
       "_view_name": "LayoutView",
       "align_content": null,
       "align_items": null,
       "align_self": null,
       "border": null,
       "bottom": null,
       "display": null,
       "flex": null,
       "flex_flow": null,
       "grid_area": null,
       "grid_auto_columns": null,
       "grid_auto_flow": null,
       "grid_auto_rows": null,
       "grid_column": null,
       "grid_gap": null,
       "grid_row": null,
       "grid_template_areas": null,
       "grid_template_columns": null,
       "grid_template_rows": null,
       "height": null,
       "justify_content": null,
       "justify_items": null,
       "left": null,
       "margin": null,
       "max_height": null,
       "max_width": null,
       "min_height": null,
       "min_width": null,
       "object_fit": null,
       "object_position": null,
       "order": null,
       "overflow": null,
       "overflow_x": null,
       "overflow_y": null,
       "padding": null,
       "right": null,
       "top": null,
       "visibility": null,
       "width": null
      }
     },
     "24d765a65e1c4af88c9a054a49a4e93e": {
      "model_module": "@jupyter-widgets/controls",
      "model_module_version": "1.5.0",
      "model_name": "HTMLModel",
      "state": {
       "_dom_classes": [],
       "_model_module": "@jupyter-widgets/controls",
       "_model_module_version": "1.5.0",
       "_model_name": "HTMLModel",
       "_view_count": null,
       "_view_module": "@jupyter-widgets/controls",
       "_view_module_version": "1.5.0",
       "_view_name": "HTMLView",
       "description": "",
       "description_tooltip": null,
       "layout": "IPY_MODEL_c89baac422c340358df41109cbe6730e",
       "placeholder": "​",
       "style": "IPY_MODEL_752d239b878e4aa48b7be5ba01fbde13",
       "value": ""
      }
     },
     "26ec43d0f5f1467e902fe4304f1884f4": {
      "model_module": "@jupyter-widgets/controls",
      "model_module_version": "1.5.0",
      "model_name": "HTMLModel",
      "state": {
       "_dom_classes": [],
       "_model_module": "@jupyter-widgets/controls",
       "_model_module_version": "1.5.0",
       "_model_name": "HTMLModel",
       "_view_count": null,
       "_view_module": "@jupyter-widgets/controls",
       "_view_module_version": "1.5.0",
       "_view_name": "HTMLView",
       "description": "",
       "description_tooltip": null,
       "layout": "IPY_MODEL_1027e9ad9b454d1d95a8093d7a5ac154",
       "placeholder": "​",
       "style": "IPY_MODEL_e371ce6e06724acd9293fdf00108f2ea",
       "value": " 170499072/? [00:06&lt;00:00, 26003100.58it/s]"
      }
     },
     "2d09cb63981d4b09961c0ecde9682cdb": {
      "model_module": "@jupyter-widgets/base",
      "model_module_version": "1.2.0",
      "model_name": "LayoutModel",
      "state": {
       "_model_module": "@jupyter-widgets/base",
       "_model_module_version": "1.2.0",
       "_model_name": "LayoutModel",
       "_view_count": null,
       "_view_module": "@jupyter-widgets/base",
       "_view_module_version": "1.2.0",
       "_view_name": "LayoutView",
       "align_content": null,
       "align_items": null,
       "align_self": null,
       "border": null,
       "bottom": null,
       "display": null,
       "flex": null,
       "flex_flow": null,
       "grid_area": null,
       "grid_auto_columns": null,
       "grid_auto_flow": null,
       "grid_auto_rows": null,
       "grid_column": null,
       "grid_gap": null,
       "grid_row": null,
       "grid_template_areas": null,
       "grid_template_columns": null,
       "grid_template_rows": null,
       "height": null,
       "justify_content": null,
       "justify_items": null,
       "left": null,
       "margin": null,
       "max_height": null,
       "max_width": null,
       "min_height": null,
       "min_width": null,
       "object_fit": null,
       "object_position": null,
       "order": null,
       "overflow": null,
       "overflow_x": null,
       "overflow_y": null,
       "padding": null,
       "right": null,
       "top": null,
       "visibility": null,
       "width": null
      }
     },
     "444a846fa4fe4b16b2fda2965fdb4afd": {
      "model_module": "@jupyter-widgets/base",
      "model_module_version": "1.2.0",
      "model_name": "LayoutModel",
      "state": {
       "_model_module": "@jupyter-widgets/base",
       "_model_module_version": "1.2.0",
       "_model_name": "LayoutModel",
       "_view_count": null,
       "_view_module": "@jupyter-widgets/base",
       "_view_module_version": "1.2.0",
       "_view_name": "LayoutView",
       "align_content": null,
       "align_items": null,
       "align_self": null,
       "border": null,
       "bottom": null,
       "display": null,
       "flex": null,
       "flex_flow": null,
       "grid_area": null,
       "grid_auto_columns": null,
       "grid_auto_flow": null,
       "grid_auto_rows": null,
       "grid_column": null,
       "grid_gap": null,
       "grid_row": null,
       "grid_template_areas": null,
       "grid_template_columns": null,
       "grid_template_rows": null,
       "height": null,
       "justify_content": null,
       "justify_items": null,
       "left": null,
       "margin": null,
       "max_height": null,
       "max_width": null,
       "min_height": null,
       "min_width": null,
       "object_fit": null,
       "object_position": null,
       "order": null,
       "overflow": null,
       "overflow_x": null,
       "overflow_y": null,
       "padding": null,
       "right": null,
       "top": null,
       "visibility": null,
       "width": null
      }
     },
     "5fcc2154c9b348d9802a0762186bb948": {
      "model_module": "@jupyter-widgets/controls",
      "model_module_version": "1.5.0",
      "model_name": "ProgressStyleModel",
      "state": {
       "_model_module": "@jupyter-widgets/controls",
       "_model_module_version": "1.5.0",
       "_model_name": "ProgressStyleModel",
       "_view_count": null,
       "_view_module": "@jupyter-widgets/base",
       "_view_module_version": "1.2.0",
       "_view_name": "StyleView",
       "bar_color": null,
       "description_width": ""
      }
     },
     "752d239b878e4aa48b7be5ba01fbde13": {
      "model_module": "@jupyter-widgets/controls",
      "model_module_version": "1.5.0",
      "model_name": "DescriptionStyleModel",
      "state": {
       "_model_module": "@jupyter-widgets/controls",
       "_model_module_version": "1.5.0",
       "_model_name": "DescriptionStyleModel",
       "_view_count": null,
       "_view_module": "@jupyter-widgets/base",
       "_view_module_version": "1.2.0",
       "_view_name": "StyleView",
       "description_width": ""
      }
     },
     "b9f3f111d33a4e4db03492dc0d8c54f0": {
      "model_module": "@jupyter-widgets/controls",
      "model_module_version": "1.5.0",
      "model_name": "FloatProgressModel",
      "state": {
       "_dom_classes": [],
       "_model_module": "@jupyter-widgets/controls",
       "_model_module_version": "1.5.0",
       "_model_name": "FloatProgressModel",
       "_view_count": null,
       "_view_module": "@jupyter-widgets/controls",
       "_view_module_version": "1.5.0",
       "_view_name": "ProgressView",
       "bar_style": "success",
       "description": "",
       "description_tooltip": null,
       "layout": "IPY_MODEL_444a846fa4fe4b16b2fda2965fdb4afd",
       "max": 170498071.0,
       "min": 0.0,
       "orientation": "horizontal",
       "style": "IPY_MODEL_5fcc2154c9b348d9802a0762186bb948",
       "value": 170498071.0
      }
     },
     "bb378b604d0843d3b92418de90b72316": {
      "model_module": "@jupyter-widgets/controls",
      "model_module_version": "1.5.0",
      "model_name": "HBoxModel",
      "state": {
       "_dom_classes": [],
       "_model_module": "@jupyter-widgets/controls",
       "_model_module_version": "1.5.0",
       "_model_name": "HBoxModel",
       "_view_count": null,
       "_view_module": "@jupyter-widgets/controls",
       "_view_module_version": "1.5.0",
       "_view_name": "HBoxView",
       "box_style": "",
       "children": [
        "IPY_MODEL_24d765a65e1c4af88c9a054a49a4e93e",
        "IPY_MODEL_b9f3f111d33a4e4db03492dc0d8c54f0",
        "IPY_MODEL_26ec43d0f5f1467e902fe4304f1884f4"
       ],
       "layout": "IPY_MODEL_2d09cb63981d4b09961c0ecde9682cdb"
      }
     },
     "c89baac422c340358df41109cbe6730e": {
      "model_module": "@jupyter-widgets/base",
      "model_module_version": "1.2.0",
      "model_name": "LayoutModel",
      "state": {
       "_model_module": "@jupyter-widgets/base",
       "_model_module_version": "1.2.0",
       "_model_name": "LayoutModel",
       "_view_count": null,
       "_view_module": "@jupyter-widgets/base",
       "_view_module_version": "1.2.0",
       "_view_name": "LayoutView",
       "align_content": null,
       "align_items": null,
       "align_self": null,
       "border": null,
       "bottom": null,
       "display": null,
       "flex": null,
       "flex_flow": null,
       "grid_area": null,
       "grid_auto_columns": null,
       "grid_auto_flow": null,
       "grid_auto_rows": null,
       "grid_column": null,
       "grid_gap": null,
       "grid_row": null,
       "grid_template_areas": null,
       "grid_template_columns": null,
       "grid_template_rows": null,
       "height": null,
       "justify_content": null,
       "justify_items": null,
       "left": null,
       "margin": null,
       "max_height": null,
       "max_width": null,
       "min_height": null,
       "min_width": null,
       "object_fit": null,
       "object_position": null,
       "order": null,
       "overflow": null,
       "overflow_x": null,
       "overflow_y": null,
       "padding": null,
       "right": null,
       "top": null,
       "visibility": null,
       "width": null
      }
     },
     "e371ce6e06724acd9293fdf00108f2ea": {
      "model_module": "@jupyter-widgets/controls",
      "model_module_version": "1.5.0",
      "model_name": "DescriptionStyleModel",
      "state": {
       "_model_module": "@jupyter-widgets/controls",
       "_model_module_version": "1.5.0",
       "_model_name": "DescriptionStyleModel",
       "_view_count": null,
       "_view_module": "@jupyter-widgets/base",
       "_view_module_version": "1.2.0",
       "_view_name": "StyleView",
       "description_width": ""
      }
     }
    },
    "version_major": 2,
    "version_minor": 0
   }
  }
 },
 "nbformat": 4,
 "nbformat_minor": 5
}
