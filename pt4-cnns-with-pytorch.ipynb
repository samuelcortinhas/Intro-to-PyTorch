{
 "cells": [
  {
   "cell_type": "markdown",
   "id": "6b11b276",
   "metadata": {
    "papermill": {
     "duration": 0.038359,
     "end_time": "2022-09-21T09:29:26.551463",
     "exception": false,
     "start_time": "2022-09-21T09:29:26.513104",
     "status": "completed"
    },
    "tags": []
   },
   "source": [
    "# Introduction\n",
    "\n",
    "In this notebook, we will practice using **PyTorch** to create **convolutional neural networks** (CNNs). We will be training a **CNN** for the **MNIST digit classification** task.\n",
    "\n",
    "1. Prepare the data (dataset & dataloader)\n",
    "2. Construct the model\n",
    "3. Define the loss and optimiser\n",
    "4. Write a training loop"
   ]
  },
  {
   "cell_type": "markdown",
   "id": "9d063d4d",
   "metadata": {
    "papermill": {
     "duration": 0.033088,
     "end_time": "2022-09-21T09:29:26.621090",
     "exception": false,
     "start_time": "2022-09-21T09:29:26.588002",
     "status": "completed"
    },
    "tags": []
   },
   "source": [
    "**Libraries**"
   ]
  },
  {
   "cell_type": "code",
   "execution_count": 1,
   "id": "e1fedfa6",
   "metadata": {
    "execution": {
     "iopub.execute_input": "2022-09-21T09:29:26.688449Z",
     "iopub.status.busy": "2022-09-21T09:29:26.686632Z",
     "iopub.status.idle": "2022-09-21T09:29:29.421501Z",
     "shell.execute_reply": "2022-09-21T09:29:29.422008Z",
     "shell.execute_reply.started": "2022-08-24T14:05:41.218603Z"
    },
    "papermill": {
     "duration": 2.768959,
     "end_time": "2022-09-21T09:29:29.422349",
     "exception": false,
     "start_time": "2022-09-21T09:29:26.653390",
     "status": "completed"
    },
    "tags": []
   },
   "outputs": [],
   "source": [
    "# Core\n",
    "import numpy as np\n",
    "import pandas as pd\n",
    "import seaborn as sns\n",
    "sns.set_style('darkgrid')\n",
    "sns.set(style='darkgrid', font_scale=1.4)\n",
    "import matplotlib.pyplot as plt\n",
    "%matplotlib inline\n",
    "import random\n",
    "\n",
    "# Sklearn\n",
    "from sklearn.model_selection import train_test_split\n",
    "from sklearn.preprocessing import StandardScaler, OneHotEncoder\n",
    "from sklearn.impute import SimpleImputer\n",
    "from sklearn.pipeline import make_pipeline\n",
    "from sklearn.compose import make_column_transformer\n",
    "\n",
    "# Pytorch\n",
    "import torch\n",
    "import torch.nn as nn\n",
    "import torch.optim as optim\n",
    "import torch.optim.lr_scheduler as lr_scheduler\n",
    "from torch.utils.data import Dataset, DataLoader\n",
    "from torchvision import transforms"
   ]
  },
  {
   "cell_type": "markdown",
   "id": "f44b3b05",
   "metadata": {
    "papermill": {
     "duration": 0.028182,
     "end_time": "2022-09-21T09:29:29.481581",
     "exception": false,
     "start_time": "2022-09-21T09:29:29.453399",
     "status": "completed"
    },
    "tags": []
   },
   "source": [
    "**Reproducibility**"
   ]
  },
  {
   "cell_type": "code",
   "execution_count": 2,
   "id": "52545156",
   "metadata": {
    "execution": {
     "iopub.execute_input": "2022-09-21T09:29:29.544573Z",
     "iopub.status.busy": "2022-09-21T09:29:29.543721Z",
     "iopub.status.idle": "2022-09-21T09:29:29.548210Z",
     "shell.execute_reply": "2022-09-21T09:29:29.548760Z",
     "shell.execute_reply.started": "2022-08-24T13:58:07.122134Z"
    },
    "papermill": {
     "duration": 0.038543,
     "end_time": "2022-09-21T09:29:29.548933",
     "exception": false,
     "start_time": "2022-09-21T09:29:29.510390",
     "status": "completed"
    },
    "tags": []
   },
   "outputs": [],
   "source": [
    "# Random seeds\n",
    "def set_seed(seed=0):\n",
    "    np.random.seed(seed)\n",
    "    random.seed(seed)\n",
    "    torch.manual_seed(seed)\n",
    "set_seed()"
   ]
  },
  {
   "cell_type": "markdown",
   "id": "4569bd2f",
   "metadata": {
    "papermill": {
     "duration": 0.028607,
     "end_time": "2022-09-21T09:29:29.606712",
     "exception": false,
     "start_time": "2022-09-21T09:29:29.578105",
     "status": "completed"
    },
    "tags": []
   },
   "source": [
    "**Config**"
   ]
  },
  {
   "cell_type": "code",
   "execution_count": 3,
   "id": "c8570af9",
   "metadata": {
    "execution": {
     "iopub.execute_input": "2022-09-21T09:29:29.667472Z",
     "iopub.status.busy": "2022-09-21T09:29:29.666748Z",
     "iopub.status.idle": "2022-09-21T09:29:29.670744Z",
     "shell.execute_reply": "2022-09-21T09:29:29.671376Z",
     "shell.execute_reply.started": "2022-08-24T13:58:07.130876Z"
    },
    "papermill": {
     "duration": 0.036271,
     "end_time": "2022-09-21T09:29:29.671561",
     "exception": false,
     "start_time": "2022-09-21T09:29:29.635290",
     "status": "completed"
    },
    "tags": []
   },
   "outputs": [],
   "source": [
    "# Hyperparameters\n",
    "BATCH_SIZE = 64\n",
    "LEARNING_RATE = 0.001\n",
    "N_EPOCHS = 60\n",
    "\n",
    "# Network dims\n",
    "CONV1_CHANNELS = 64\n",
    "CONV2_CHANNELS = 128\n",
    "LINEAR1_SIZE = 256\n",
    "LINEAR2_SIZE = 128\n",
    "DROPOUT_RATE = 0.35"
   ]
  },
  {
   "cell_type": "markdown",
   "id": "14c27ba4",
   "metadata": {
    "papermill": {
     "duration": 0.029371,
     "end_time": "2022-09-21T09:29:29.730117",
     "exception": false,
     "start_time": "2022-09-21T09:29:29.700746",
     "status": "completed"
    },
    "tags": []
   },
   "source": [
    "Connect to **GPU** if available, otherwise use the **CPU**."
   ]
  },
  {
   "cell_type": "code",
   "execution_count": 4,
   "id": "ada6258d",
   "metadata": {
    "execution": {
     "iopub.execute_input": "2022-09-21T09:29:29.790936Z",
     "iopub.status.busy": "2022-09-21T09:29:29.790316Z",
     "iopub.status.idle": "2022-09-21T09:29:29.798586Z",
     "shell.execute_reply": "2022-09-21T09:29:29.798042Z",
     "shell.execute_reply.started": "2022-08-24T13:58:07.232899Z"
    },
    "papermill": {
     "duration": 0.039492,
     "end_time": "2022-09-21T09:29:29.798724",
     "exception": false,
     "start_time": "2022-09-21T09:29:29.759232",
     "status": "completed"
    },
    "tags": []
   },
   "outputs": [
    {
     "data": {
      "text/plain": [
       "device(type='cpu')"
      ]
     },
     "execution_count": 4,
     "metadata": {},
     "output_type": "execute_result"
    }
   ],
   "source": [
    "# Config device\n",
    "device = torch.device('cuda' if torch.cuda.is_available() else 'cpu')\n",
    "device"
   ]
  },
  {
   "cell_type": "markdown",
   "id": "a180c9f3",
   "metadata": {
    "papermill": {
     "duration": 0.029406,
     "end_time": "2022-09-21T09:29:29.857481",
     "exception": false,
     "start_time": "2022-09-21T09:29:29.828075",
     "status": "completed"
    },
    "tags": []
   },
   "source": [
    "To use the **device**, in general we need to send the **model**, **features** and **labels** to the device.\n",
    "1. `model.to(device)`\n",
    "2. `features = features.to(device)`\n",
    "3. `labels = labels.to(device)`"
   ]
  },
  {
   "cell_type": "markdown",
   "id": "f954d42f",
   "metadata": {
    "papermill": {
     "duration": 0.02862,
     "end_time": "2022-09-21T09:29:29.915447",
     "exception": false,
     "start_time": "2022-09-21T09:29:29.886827",
     "status": "completed"
    },
    "tags": []
   },
   "source": [
    "# Data"
   ]
  },
  {
   "cell_type": "markdown",
   "id": "d999ec06",
   "metadata": {
    "papermill": {
     "duration": 0.028447,
     "end_time": "2022-09-21T09:29:29.973502",
     "exception": false,
     "start_time": "2022-09-21T09:29:29.945055",
     "status": "completed"
    },
    "tags": []
   },
   "source": [
    "**Load data**"
   ]
  },
  {
   "cell_type": "code",
   "execution_count": 5,
   "id": "f39cba42",
   "metadata": {
    "_kg_hide-input": false,
    "execution": {
     "iopub.execute_input": "2022-09-21T09:29:30.036851Z",
     "iopub.status.busy": "2022-09-21T09:29:30.036126Z",
     "iopub.status.idle": "2022-09-21T09:29:35.822395Z",
     "shell.execute_reply": "2022-09-21T09:29:35.822857Z",
     "shell.execute_reply.started": "2022-08-24T13:58:10.698877Z"
    },
    "papermill": {
     "duration": 5.8206,
     "end_time": "2022-09-21T09:29:35.823045",
     "exception": false,
     "start_time": "2022-09-21T09:29:30.002445",
     "status": "completed"
    },
    "tags": []
   },
   "outputs": [
    {
     "name": "stdout",
     "output_type": "stream",
     "text": [
      "(42000, 785)\n"
     ]
    },
    {
     "data": {
      "text/html": [
       "<div>\n",
       "<style scoped>\n",
       "    .dataframe tbody tr th:only-of-type {\n",
       "        vertical-align: middle;\n",
       "    }\n",
       "\n",
       "    .dataframe tbody tr th {\n",
       "        vertical-align: top;\n",
       "    }\n",
       "\n",
       "    .dataframe thead th {\n",
       "        text-align: right;\n",
       "    }\n",
       "</style>\n",
       "<table border=\"1\" class=\"dataframe\">\n",
       "  <thead>\n",
       "    <tr style=\"text-align: right;\">\n",
       "      <th></th>\n",
       "      <th>label</th>\n",
       "      <th>pixel0</th>\n",
       "      <th>pixel1</th>\n",
       "      <th>pixel2</th>\n",
       "      <th>pixel3</th>\n",
       "      <th>pixel4</th>\n",
       "      <th>pixel5</th>\n",
       "      <th>pixel6</th>\n",
       "      <th>pixel7</th>\n",
       "      <th>pixel8</th>\n",
       "      <th>...</th>\n",
       "      <th>pixel774</th>\n",
       "      <th>pixel775</th>\n",
       "      <th>pixel776</th>\n",
       "      <th>pixel777</th>\n",
       "      <th>pixel778</th>\n",
       "      <th>pixel779</th>\n",
       "      <th>pixel780</th>\n",
       "      <th>pixel781</th>\n",
       "      <th>pixel782</th>\n",
       "      <th>pixel783</th>\n",
       "    </tr>\n",
       "  </thead>\n",
       "  <tbody>\n",
       "    <tr>\n",
       "      <th>0</th>\n",
       "      <td>1</td>\n",
       "      <td>0</td>\n",
       "      <td>0</td>\n",
       "      <td>0</td>\n",
       "      <td>0</td>\n",
       "      <td>0</td>\n",
       "      <td>0</td>\n",
       "      <td>0</td>\n",
       "      <td>0</td>\n",
       "      <td>0</td>\n",
       "      <td>...</td>\n",
       "      <td>0</td>\n",
       "      <td>0</td>\n",
       "      <td>0</td>\n",
       "      <td>0</td>\n",
       "      <td>0</td>\n",
       "      <td>0</td>\n",
       "      <td>0</td>\n",
       "      <td>0</td>\n",
       "      <td>0</td>\n",
       "      <td>0</td>\n",
       "    </tr>\n",
       "    <tr>\n",
       "      <th>1</th>\n",
       "      <td>0</td>\n",
       "      <td>0</td>\n",
       "      <td>0</td>\n",
       "      <td>0</td>\n",
       "      <td>0</td>\n",
       "      <td>0</td>\n",
       "      <td>0</td>\n",
       "      <td>0</td>\n",
       "      <td>0</td>\n",
       "      <td>0</td>\n",
       "      <td>...</td>\n",
       "      <td>0</td>\n",
       "      <td>0</td>\n",
       "      <td>0</td>\n",
       "      <td>0</td>\n",
       "      <td>0</td>\n",
       "      <td>0</td>\n",
       "      <td>0</td>\n",
       "      <td>0</td>\n",
       "      <td>0</td>\n",
       "      <td>0</td>\n",
       "    </tr>\n",
       "    <tr>\n",
       "      <th>2</th>\n",
       "      <td>1</td>\n",
       "      <td>0</td>\n",
       "      <td>0</td>\n",
       "      <td>0</td>\n",
       "      <td>0</td>\n",
       "      <td>0</td>\n",
       "      <td>0</td>\n",
       "      <td>0</td>\n",
       "      <td>0</td>\n",
       "      <td>0</td>\n",
       "      <td>...</td>\n",
       "      <td>0</td>\n",
       "      <td>0</td>\n",
       "      <td>0</td>\n",
       "      <td>0</td>\n",
       "      <td>0</td>\n",
       "      <td>0</td>\n",
       "      <td>0</td>\n",
       "      <td>0</td>\n",
       "      <td>0</td>\n",
       "      <td>0</td>\n",
       "    </tr>\n",
       "  </tbody>\n",
       "</table>\n",
       "<p>3 rows × 785 columns</p>\n",
       "</div>"
      ],
      "text/plain": [
       "   label  pixel0  pixel1  pixel2  pixel3  pixel4  pixel5  pixel6  pixel7  \\\n",
       "0      1       0       0       0       0       0       0       0       0   \n",
       "1      0       0       0       0       0       0       0       0       0   \n",
       "2      1       0       0       0       0       0       0       0       0   \n",
       "\n",
       "   pixel8  ...  pixel774  pixel775  pixel776  pixel777  pixel778  pixel779  \\\n",
       "0       0  ...         0         0         0         0         0         0   \n",
       "1       0  ...         0         0         0         0         0         0   \n",
       "2       0  ...         0         0         0         0         0         0   \n",
       "\n",
       "   pixel780  pixel781  pixel782  pixel783  \n",
       "0         0         0         0         0  \n",
       "1         0         0         0         0  \n",
       "2         0         0         0         0  \n",
       "\n",
       "[3 rows x 785 columns]"
      ]
     },
     "execution_count": 5,
     "metadata": {},
     "output_type": "execute_result"
    }
   ],
   "source": [
    "# Training data\n",
    "train_data=pd.read_csv('../input/digit-recognizer/train.csv')\n",
    "\n",
    "# Test data scaled to lie in [0,1]\n",
    "test_data=pd.read_csv('../input/digit-recognizer/test.csv')/255\n",
    "\n",
    "# Shape and preview\n",
    "print(train_data.shape)\n",
    "train_data.head(3)"
   ]
  },
  {
   "cell_type": "markdown",
   "id": "ae9ea120",
   "metadata": {
    "papermill": {
     "duration": 0.029906,
     "end_time": "2022-09-21T09:29:35.883866",
     "exception": false,
     "start_time": "2022-09-21T09:29:35.853960",
     "status": "completed"
    },
    "tags": []
   },
   "source": [
    "**Check for null values**"
   ]
  },
  {
   "cell_type": "code",
   "execution_count": 6,
   "id": "a63efb3f",
   "metadata": {
    "_kg_hide-input": false,
    "execution": {
     "iopub.execute_input": "2022-09-21T09:29:35.947553Z",
     "iopub.status.busy": "2022-09-21T09:29:35.946827Z",
     "iopub.status.idle": "2022-09-21T09:29:36.051279Z",
     "shell.execute_reply": "2022-09-21T09:29:36.050508Z",
     "shell.execute_reply.started": "2022-08-24T13:58:15.642025Z"
    },
    "papermill": {
     "duration": 0.137686,
     "end_time": "2022-09-21T09:29:36.051491",
     "exception": false,
     "start_time": "2022-09-21T09:29:35.913805",
     "status": "completed"
    },
    "tags": []
   },
   "outputs": [
    {
     "name": "stdout",
     "output_type": "stream",
     "text": [
      "Number of null values in training set: 0\n",
      "\n",
      "Number of null values in test set: 0\n"
     ]
    }
   ],
   "source": [
    "print('Number of null values in training set:',train_data.isnull().sum().sum())\n",
    "print('')\n",
    "print('Number of null values in test set:',test_data.isnull().sum().sum())"
   ]
  },
  {
   "cell_type": "markdown",
   "id": "4ded9821",
   "metadata": {
    "papermill": {
     "duration": 0.030653,
     "end_time": "2022-09-21T09:29:36.114429",
     "exception": false,
     "start_time": "2022-09-21T09:29:36.083776",
     "status": "completed"
    },
    "tags": []
   },
   "source": [
    "**Preview first few images**"
   ]
  },
  {
   "cell_type": "code",
   "execution_count": 7,
   "id": "c5b55596",
   "metadata": {
    "execution": {
     "iopub.execute_input": "2022-09-21T09:29:36.187078Z",
     "iopub.status.busy": "2022-09-21T09:29:36.186140Z",
     "iopub.status.idle": "2022-09-21T09:29:36.803498Z",
     "shell.execute_reply": "2022-09-21T09:29:36.804003Z",
     "shell.execute_reply.started": "2022-08-24T13:58:15.839447Z"
    },
    "papermill": {
     "duration": 0.655223,
     "end_time": "2022-09-21T09:29:36.804195",
     "exception": false,
     "start_time": "2022-09-21T09:29:36.148972",
     "status": "completed"
    },
    "tags": []
   },
   "outputs": [
    {
     "data": {
      "image/png": "[encoded data removed]",
      "text/plain": [
       "<Figure size 576x576 with 9 Axes>"
      ]
     },
     "metadata": {
      "needs_background": "light"
     },
     "output_type": "display_data"
    }
   ],
   "source": [
    "# Figure size\n",
    "plt.figure(figsize=(8,8))\n",
    "\n",
    "# Subplot\n",
    "for i in range(9):\n",
    "    img = np.asarray(train_data.iloc[i+270,1:].values.reshape((28,28))/255)\n",
    "    ax=plt.subplot(3, 3, i+1)\n",
    "    ax.grid(False)\n",
    "    ax.get_xaxis().set_visible(False)\n",
    "    ax.get_yaxis().set_visible(False)\n",
    "    ax.title.set_text(f'{train_data.iloc[i+270,0]}')\n",
    "    plt.imshow(img, cmap='gray')\n",
    "    \n",
    "plt.show()"
   ]
  },
  {
   "cell_type": "markdown",
   "id": "87196252",
   "metadata": {
    "papermill": {
     "duration": 0.030866,
     "end_time": "2022-09-21T09:29:36.866402",
     "exception": false,
     "start_time": "2022-09-21T09:29:36.835536",
     "status": "completed"
    },
    "tags": []
   },
   "source": [
    "**Explore label distribution**"
   ]
  },
  {
   "cell_type": "code",
   "execution_count": 8,
   "id": "285141cf",
   "metadata": {
    "_kg_hide-input": false,
    "execution": {
     "iopub.execute_input": "2022-09-21T09:29:36.932790Z",
     "iopub.status.busy": "2022-09-21T09:29:36.931939Z",
     "iopub.status.idle": "2022-09-21T09:29:37.239980Z",
     "shell.execute_reply": "2022-09-21T09:29:37.240617Z",
     "shell.execute_reply.started": "2022-08-24T13:58:17.633485Z"
    },
    "papermill": {
     "duration": 0.343106,
     "end_time": "2022-09-21T09:29:37.240818",
     "exception": false,
     "start_time": "2022-09-21T09:29:36.897712",
     "status": "completed"
    },
    "tags": []
   },
   "outputs": [
    {
     "data": {
      "text/plain": [
       "Text(0.5, 1.0, 'Distribution of labels in training set')"
      ]
     },
     "execution_count": 8,
     "metadata": {},
     "output_type": "execute_result"
    },
    {
     "data": {
      "image/png": "[encoded data removed]",
      "text/plain": [
       "<Figure size 576x288 with 1 Axes>"
      ]
     },
     "metadata": {
      "needs_background": "light"
     },
     "output_type": "display_data"
    }
   ],
   "source": [
    "# Countplot\n",
    "plt.figure(figsize=(8,4))\n",
    "sns.countplot(x='label', data=train_data)\n",
    "plt.title('Distribution of labels in training set')"
   ]
  },
  {
   "cell_type": "markdown",
   "id": "58043873",
   "metadata": {
    "papermill": {
     "duration": 0.032084,
     "end_time": "2022-09-21T09:29:37.305457",
     "exception": false,
     "start_time": "2022-09-21T09:29:37.273373",
     "status": "completed"
    },
    "tags": []
   },
   "source": [
    "**Labels and features**"
   ]
  },
  {
   "cell_type": "code",
   "execution_count": 9,
   "id": "97d8ba39",
   "metadata": {
    "execution": {
     "iopub.execute_input": "2022-09-21T09:29:37.373965Z",
     "iopub.status.busy": "2022-09-21T09:29:37.373005Z",
     "iopub.status.idle": "2022-09-21T09:29:37.551946Z",
     "shell.execute_reply": "2022-09-21T09:29:37.551273Z",
     "shell.execute_reply.started": "2022-08-24T13:58:19.854593Z"
    },
    "papermill": {
     "duration": 0.214268,
     "end_time": "2022-09-21T09:29:37.552089",
     "exception": false,
     "start_time": "2022-09-21T09:29:37.337821",
     "status": "completed"
    },
    "tags": []
   },
   "outputs": [],
   "source": [
    "# Labels\n",
    "y = train_data.label\n",
    "\n",
    "# Features scaled to lie in [0,1]\n",
    "X = train_data.drop('label', axis=1)/255"
   ]
  },
  {
   "cell_type": "markdown",
   "id": "3799753d",
   "metadata": {
    "papermill": {
     "duration": 0.032118,
     "end_time": "2022-09-21T09:29:37.616838",
     "exception": false,
     "start_time": "2022-09-21T09:29:37.584720",
     "status": "completed"
    },
    "tags": []
   },
   "source": [
    "**Reshape data**"
   ]
  },
  {
   "cell_type": "code",
   "execution_count": 10,
   "id": "99e8696c",
   "metadata": {
    "execution": {
     "iopub.execute_input": "2022-09-21T09:29:37.690718Z",
     "iopub.status.busy": "2022-09-21T09:29:37.689722Z",
     "iopub.status.idle": "2022-09-21T09:29:37.692795Z",
     "shell.execute_reply": "2022-09-21T09:29:37.692257Z",
     "shell.execute_reply.started": "2022-08-24T13:58:26.567421Z"
    },
    "papermill": {
     "duration": 0.040431,
     "end_time": "2022-09-21T09:29:37.692944",
     "exception": false,
     "start_time": "2022-09-21T09:29:37.652513",
     "status": "completed"
    },
    "tags": []
   },
   "outputs": [],
   "source": [
    "# Reshape (-1 means unspecified)\n",
    "X = X.values.reshape(-1, 1, 28, 28)\n",
    "\n",
    "# Save test data index for submission\n",
    "test_index = test_data.index\n",
    "\n",
    "# Reshape\n",
    "test_data = test_data.values.reshape(-1, 1, 28, 28)"
   ]
  },
  {
   "cell_type": "markdown",
   "id": "0b681993",
   "metadata": {
    "papermill": {
     "duration": 0.032174,
     "end_time": "2022-09-21T09:29:37.757592",
     "exception": false,
     "start_time": "2022-09-21T09:29:37.725418",
     "status": "completed"
    },
    "tags": []
   },
   "source": [
    "**Break off validation set**"
   ]
  },
  {
   "cell_type": "code",
   "execution_count": 11,
   "id": "5970b6f9",
   "metadata": {
    "execution": {
     "iopub.execute_input": "2022-09-21T09:29:37.831004Z",
     "iopub.status.busy": "2022-09-21T09:29:37.829643Z",
     "iopub.status.idle": "2022-09-21T09:29:38.216494Z",
     "shell.execute_reply": "2022-09-21T09:29:38.215787Z",
     "shell.execute_reply.started": "2022-08-24T13:58:30.771455Z"
    },
    "papermill": {
     "duration": 0.426702,
     "end_time": "2022-09-21T09:29:38.216664",
     "exception": false,
     "start_time": "2022-09-21T09:29:37.789962",
     "status": "completed"
    },
    "tags": []
   },
   "outputs": [],
   "source": [
    "X_train, X_valid, y_train, y_valid = train_test_split(X, y, train_size=0.9, test_size=0.1, random_state=0)"
   ]
  },
  {
   "cell_type": "markdown",
   "id": "d3c8ee00",
   "metadata": {
    "papermill": {
     "duration": 0.032179,
     "end_time": "2022-09-21T09:29:38.282088",
     "exception": false,
     "start_time": "2022-09-21T09:29:38.249909",
     "status": "completed"
    },
    "tags": []
   },
   "source": [
    "**Data augmentation**"
   ]
  },
  {
   "cell_type": "markdown",
   "id": "8ab3718f",
   "metadata": {
    "papermill": {
     "duration": 0.032167,
     "end_time": "2022-09-21T09:29:38.347563",
     "exception": false,
     "start_time": "2022-09-21T09:29:38.315396",
     "status": "completed"
    },
    "tags": []
   },
   "source": [
    "Data augmentation is a **clever trick** that uses your existing training set to create **additional 'fake' data** by applying **small transformations** to every batch. This doesn't change the size of your training set, it just **modifies each image slightly** every batch so that the network becomes **more robust** over several epochs."
   ]
  },
  {
   "cell_type": "code",
   "execution_count": 12,
   "id": "9fe7f2a7",
   "metadata": {
    "execution": {
     "iopub.execute_input": "2022-09-21T09:29:38.418479Z",
     "iopub.status.busy": "2022-09-21T09:29:38.417768Z",
     "iopub.status.idle": "2022-09-21T09:29:38.420822Z",
     "shell.execute_reply": "2022-09-21T09:29:38.420299Z",
     "shell.execute_reply.started": "2022-08-24T14:27:46.733616Z"
    },
    "papermill": {
     "duration": 0.040877,
     "end_time": "2022-09-21T09:29:38.420968",
     "exception": false,
     "start_time": "2022-09-21T09:29:38.380091",
     "status": "completed"
    },
    "tags": []
   },
   "outputs": [],
   "source": [
    "# Random rotation and random zoom\n",
    "data_transforms = transforms.Compose([\n",
    "        transforms.RandomRotation(degrees=30),\n",
    "        transforms.RandomResizedCrop(size=(28,28), scale=(0.8, 1.2),ratio=(1,1)),\n",
    "        ])"
   ]
  },
  {
   "cell_type": "markdown",
   "id": "92f98756",
   "metadata": {
    "papermill": {
     "duration": 0.032352,
     "end_time": "2022-09-21T09:29:38.544842",
     "exception": false,
     "start_time": "2022-09-21T09:29:38.512490",
     "status": "completed"
    },
    "tags": []
   },
   "source": [
    "# Dataset & Dataloader\n",
    "\n",
    "A **dataloader** will feed in **batches** of training examples to the model. This is especially **useful** for very **large datasets** where you can't load the whole dataset in one go. \n",
    "\n",
    "As input, it needs a **dataset**, which is created in a class and requires the `__init__`, `__getitem__` and `__len__` attributes."
   ]
  },
  {
   "cell_type": "code",
   "execution_count": 13,
   "id": "a56f6ec8",
   "metadata": {
    "execution": {
     "iopub.execute_input": "2022-09-21T09:29:38.618829Z",
     "iopub.status.busy": "2022-09-21T09:29:38.618101Z",
     "iopub.status.idle": "2022-09-21T09:29:38.726320Z",
     "shell.execute_reply": "2022-09-21T09:29:38.725728Z",
     "shell.execute_reply.started": "2022-08-24T14:28:55.898640Z"
    },
    "papermill": {
     "duration": 0.149147,
     "end_time": "2022-09-21T09:29:38.726493",
     "exception": false,
     "start_time": "2022-09-21T09:29:38.577346",
     "status": "completed"
    },
    "tags": []
   },
   "outputs": [],
   "source": [
    "# Create dataset\n",
    "class MNIST(Dataset):\n",
    "    # Initialise\n",
    "    def __init__(self, subset='train', transform=None):\n",
    "        super().__init__()\n",
    "        self.subset = subset\n",
    "        self.transform = transform\n",
    "        \n",
    "        # Store data\n",
    "        if self.subset=='train':\n",
    "            self.X = torch.from_numpy(X_train.astype(np.float32))\n",
    "            self.y = torch.from_numpy(y_train.values)\n",
    "        elif self.subset=='valid':\n",
    "            self.X = torch.from_numpy(X_valid.astype(np.float32))\n",
    "            self.y = torch.from_numpy(y_valid.values)\n",
    "        elif self.subset=='test':\n",
    "            self.X = torch.from_numpy(test_data.astype(np.float32))\n",
    "        else:\n",
    "            raise Exception(\"subset must be train, valid or test\")\n",
    "        \n",
    "    # Get item in position given by index\n",
    "    def __getitem__(self, index):\n",
    "        if self.subset=='test':\n",
    "            return self.X[index]\n",
    "        else:\n",
    "            sample = self.X[index]\n",
    "            \n",
    "        # Data augmentations\n",
    "        if self.transform:\n",
    "            sample = self.transform(sample)\n",
    "    \n",
    "        return sample, self.y[index]\n",
    "        \n",
    "    # Length of dataset \n",
    "    def __len__(self):\n",
    "        return self.X.shape[0]\n",
    "\n",
    "train_dataset = MNIST(subset='train', transform=data_transforms)\n",
    "valid_dataset = MNIST(subset='valid')\n",
    "test_dataset = MNIST(subset='test')"
   ]
  },
  {
   "cell_type": "markdown",
   "id": "a83c0df7",
   "metadata": {
    "papermill": {
     "duration": 0.032079,
     "end_time": "2022-09-21T09:29:38.791120",
     "exception": false,
     "start_time": "2022-09-21T09:29:38.759041",
     "status": "completed"
    },
    "tags": []
   },
   "source": [
    "A useful feature of dataloaders is that they can **shuffle** the training set for us."
   ]
  },
  {
   "cell_type": "code",
   "execution_count": 14,
   "id": "824e1b5f",
   "metadata": {
    "execution": {
     "iopub.execute_input": "2022-09-21T09:29:38.861981Z",
     "iopub.status.busy": "2022-09-21T09:29:38.861337Z",
     "iopub.status.idle": "2022-09-21T09:29:38.864509Z",
     "shell.execute_reply": "2022-09-21T09:29:38.863900Z",
     "shell.execute_reply.started": "2022-08-24T14:28:56.605119Z"
    },
    "papermill": {
     "duration": 0.041181,
     "end_time": "2022-09-21T09:29:38.864657",
     "exception": false,
     "start_time": "2022-09-21T09:29:38.823476",
     "status": "completed"
    },
    "tags": []
   },
   "outputs": [],
   "source": [
    "# Dataloaders\n",
    "train_loader = DataLoader(dataset=train_dataset, batch_size=BATCH_SIZE, shuffle=True)\n",
    "valid_loader = DataLoader(dataset=valid_dataset, batch_size=BATCH_SIZE, shuffle=False)\n",
    "test_loader = DataLoader(dataset=test_dataset, batch_size=BATCH_SIZE, shuffle=False)"
   ]
  },
  {
   "cell_type": "markdown",
   "id": "f3dbebd1",
   "metadata": {
    "papermill": {
     "duration": 0.032538,
     "end_time": "2022-09-21T09:29:38.930036",
     "exception": false,
     "start_time": "2022-09-21T09:29:38.897498",
     "status": "completed"
    },
    "tags": []
   },
   "source": [
    "# Model\n",
    "\n",
    "When working with **neural networks**, we need to **inherit** the `nn.Module` and define a `forward` attribute. The inheritance part is done to get access to **attributes** like `model.parameters()`, which are used in training. \n",
    "\n",
    "Note that we **don't** need to apply **softmax** at the end because our loss function will apply it for us."
   ]
  },
  {
   "cell_type": "code",
   "execution_count": 15,
   "id": "792f445f",
   "metadata": {
    "execution": {
     "iopub.execute_input": "2022-09-21T09:29:39.008723Z",
     "iopub.status.busy": "2022-09-21T09:29:39.003639Z",
     "iopub.status.idle": "2022-09-21T09:29:39.055220Z",
     "shell.execute_reply": "2022-09-21T09:29:39.055711Z",
     "shell.execute_reply.started": "2022-08-24T14:28:57.090885Z"
    },
    "papermill": {
     "duration": 0.093068,
     "end_time": "2022-09-21T09:29:39.055902",
     "exception": false,
     "start_time": "2022-09-21T09:29:38.962834",
     "status": "completed"
    },
    "tags": []
   },
   "outputs": [],
   "source": [
    "# Convolutional neural network\n",
    "class ConvNet(nn.Module):\n",
    "    def __init__(self, conv1_channels=CONV1_CHANNELS, conv2_channels=CONV2_CHANNELS, linear1_size=LINEAR1_SIZE, linear2_size=LINEAR2_SIZE, dropout_rate=DROPOUT_RATE):\n",
    "        super().__init__()\n",
    "        \n",
    "        # Layers\n",
    "        self.conv1=nn.Conv2d(in_channels=1, out_channels=conv1_channels, kernel_size=5, stride=1, padding=2)\n",
    "        self.pool=nn.MaxPool2d(kernel_size=2, stride=2, padding=0)\n",
    "        self.conv2=nn.Conv2d(in_channels=conv1_channels, out_channels=conv2_channels, kernel_size=3, stride=1, padding=1)\n",
    "        self.flat=nn.Flatten()\n",
    "        self.fc1=nn.Linear(in_features=conv2_channels*7*7, out_features=linear1_size)\n",
    "        self.fc2=nn.Linear(in_features=linear1_size, out_features=linear2_size)\n",
    "        self.fc3=nn.Linear(in_features=linear2_size, out_features=10)\n",
    "        self.relu=nn.ReLU()\n",
    "        self.drop = nn.Dropout(p=dropout_rate)\n",
    "        \n",
    "    def forward(self, x):\n",
    "        \n",
    "        # Conv block 1\n",
    "        out = self.conv1(x)\n",
    "        out = self.relu(out)\n",
    "        out = self.pool(out)\n",
    "        \n",
    "        # Conv block 2\n",
    "        out = self.conv2(out)\n",
    "        out = self.relu(out)\n",
    "        out = self.pool(out)\n",
    "        \n",
    "        # Fully connected layer 1\n",
    "        out = self.flat(out)\n",
    "        out = self.fc1(out)\n",
    "        out = self.relu(out)\n",
    "        out = self.drop(out)\n",
    "        \n",
    "        # Fully connected layer 2\n",
    "        out = self.fc2(out)\n",
    "        out = self.relu(out)\n",
    "        out = self.drop(out)\n",
    "        \n",
    "        # Output layer (no softmax needed)\n",
    "        out = self.fc3(out)\n",
    "        \n",
    "        return out\n",
    "\n",
    "model = ConvNet().to(device)"
   ]
  },
  {
   "cell_type": "markdown",
   "id": "656285fe",
   "metadata": {
    "papermill": {
     "duration": 0.032636,
     "end_time": "2022-09-21T09:29:39.121002",
     "exception": false,
     "start_time": "2022-09-21T09:29:39.088366",
     "status": "completed"
    },
    "tags": []
   },
   "source": [
    "# Loss & optimiser\n",
    "\n",
    "The **loss** function is called from the `torch.nn` library and the **optimiser** from the `torch.optim` library. Note that we need to input the model **parameters** into the optimiser.\n",
    "\n",
    "We also use a **learning rate scheduler** to gradually reduce the learning rate over time."
   ]
  },
  {
   "cell_type": "code",
   "execution_count": 16,
   "id": "415f87f1",
   "metadata": {
    "execution": {
     "iopub.execute_input": "2022-09-21T09:29:39.212352Z",
     "iopub.status.busy": "2022-09-21T09:29:39.211388Z",
     "iopub.status.idle": "2022-09-21T09:29:39.215989Z",
     "shell.execute_reply": "2022-09-21T09:29:39.218021Z",
     "shell.execute_reply.started": "2022-08-24T14:28:57.987919Z"
    },
    "papermill": {
     "duration": 0.051437,
     "end_time": "2022-09-21T09:29:39.218297",
     "exception": false,
     "start_time": "2022-09-21T09:29:39.166860",
     "status": "completed"
    },
    "tags": []
   },
   "outputs": [],
   "source": [
    "# Cross entropy loss\n",
    "loss = nn.CrossEntropyLoss()\n",
    "\n",
    "# Adam optimiser\n",
    "optimiser = optim.Adam(params=model.parameters(), lr=LEARNING_RATE)\n",
    "\n",
    "# Learning rate scheduler\n",
    "scheduler = lr_scheduler.CosineAnnealingLR(optimiser, T_max=N_EPOCHS)"
   ]
  },
  {
   "cell_type": "markdown",
   "id": "037e5bfa",
   "metadata": {
    "papermill": {
     "duration": 0.032255,
     "end_time": "2022-09-21T09:29:39.286137",
     "exception": false,
     "start_time": "2022-09-21T09:29:39.253882",
     "status": "completed"
    },
    "tags": []
   },
   "source": [
    "# Train model\n",
    "\n",
    "The most **important** thing to remember with PyTorch is that after every epoch, you have to **zero the gradients** (otherwise they will accumulate and explode). Other than that, we need to perform the **forward pass**, **backward pass**, and **update the parameters**."
   ]
  },
  {
   "cell_type": "code",
   "execution_count": 17,
   "id": "b75b64b3",
   "metadata": {
    "execution": {
     "iopub.execute_input": "2022-09-21T09:29:39.354101Z",
     "iopub.status.busy": "2022-09-21T09:29:39.353440Z",
     "iopub.status.idle": "2022-09-21T10:55:25.681951Z",
     "shell.execute_reply": "2022-09-21T10:55:25.682525Z",
     "shell.execute_reply.started": "2022-08-24T14:28:58.686279Z"
    },
    "papermill": {
     "duration": 5146.364022,
     "end_time": "2022-09-21T10:55:25.682714",
     "exception": false,
     "start_time": "2022-09-21T09:29:39.318692",
     "status": "completed"
    },
    "tags": []
   },
   "outputs": [
    {
     "name": "stdout",
     "output_type": "stream",
     "text": [
      "Epoch 10/60, loss 0.06310, val_loss 0.03990\n",
      "Epoch 20/60, loss 0.03973, val_loss 0.03810\n",
      "Epoch 30/60, loss 0.03007, val_loss 0.03248\n",
      "Epoch 40/60, loss 0.02061, val_loss 0.02952\n",
      "Epoch 50/60, loss 0.01497, val_loss 0.02403\n",
      "Epoch 60/60, loss 0.01334, val_loss 0.02586\n",
      "\n",
      "Training complete!\n"
     ]
    }
   ],
   "source": [
    "loss_hist = []\n",
    "val_loss_hist = []\n",
    "\n",
    "# Loop over epochs\n",
    "for epoch in range(N_EPOCHS):\n",
    "    loss_acc = 0\n",
    "    val_loss_acc = 0\n",
    "    train_count = 0\n",
    "    valid_count = 0\n",
    "    \n",
    "    # Loop over batches\n",
    "    for imgs, labels in train_loader:\n",
    "        # Reshape\n",
    "        imgs = imgs.to(device)\n",
    "        labels = labels.to(device)\n",
    "\n",
    "        # Forward pass\n",
    "        preds = model(imgs)\n",
    "        L = loss(preds,labels)\n",
    "\n",
    "        # Backprop\n",
    "        L.backward()\n",
    "\n",
    "        # Update parameters\n",
    "        optimiser.step()\n",
    "\n",
    "        # Zero gradients\n",
    "        optimiser.zero_grad()\n",
    "        \n",
    "        # Track loss\n",
    "        loss_acc += L.detach().item()\n",
    "        train_count += 1\n",
    "    \n",
    "    # Update learning rate\n",
    "    scheduler.step()\n",
    "    \n",
    "    # Don't update weights\n",
    "    with torch.no_grad():\n",
    "        # Validate\n",
    "        for val_imgs, val_labels in valid_loader:\n",
    "            # Reshape\n",
    "            val_imgs = val_imgs.to(device)\n",
    "            val_labels = val_labels.to(device)\n",
    "\n",
    "            # Forward pass\n",
    "            val_preds = model(val_imgs)\n",
    "            val_L = loss(val_preds,val_labels)\n",
    "            \n",
    "            # Track loss\n",
    "            val_loss_acc += val_L.item()\n",
    "            valid_count += 1\n",
    "        \n",
    "    # Save loss history\n",
    "    loss_hist.append(loss_acc/train_count)\n",
    "    val_loss_hist.append(val_loss_acc/valid_count)\n",
    "    \n",
    "    # Print loss\n",
    "    if (epoch+1)%10==0:\n",
    "        print(f'Epoch {epoch+1}/{N_EPOCHS}, loss {loss_acc/train_count:.5f}, val_loss {val_loss_acc/valid_count:.5f}')\n",
    "        \n",
    "print('')\n",
    "print('Training complete!')"
   ]
  },
  {
   "cell_type": "markdown",
   "id": "5b92dd5d",
   "metadata": {
    "papermill": {
     "duration": 0.03459,
     "end_time": "2022-09-21T10:55:25.752812",
     "exception": false,
     "start_time": "2022-09-21T10:55:25.718222",
     "status": "completed"
    },
    "tags": []
   },
   "source": [
    "**Learning curves**"
   ]
  },
  {
   "cell_type": "code",
   "execution_count": 18,
   "id": "0aaa26df",
   "metadata": {
    "execution": {
     "iopub.execute_input": "2022-09-21T10:55:25.841950Z",
     "iopub.status.busy": "2022-09-21T10:55:25.841247Z",
     "iopub.status.idle": "2022-09-21T10:55:26.113794Z",
     "shell.execute_reply": "2022-09-21T10:55:26.114307Z",
     "shell.execute_reply.started": "2022-08-24T14:33:46.462937Z"
    },
    "papermill": {
     "duration": 0.327357,
     "end_time": "2022-09-21T10:55:26.114488",
     "exception": false,
     "start_time": "2022-09-21T10:55:25.787131",
     "status": "completed"
    },
    "tags": []
   },
   "outputs": [
    {
     "data": {
      "image/png": "[encoded data removed]",
      "text/plain": [
       "<Figure size 720x360 with 1 Axes>"
      ]
     },
     "metadata": {
      "needs_background": "light"
     },
     "output_type": "display_data"
    }
   ],
   "source": [
    "# Plot loss\n",
    "plt.figure(figsize=(10,5))\n",
    "plt.plot(loss_hist, c='C0', label='loss')\n",
    "plt.plot(val_loss_hist, c='C1', label='val_loss')\n",
    "plt.title('Cross entropy loss')\n",
    "plt.xlabel('Epoch')\n",
    "plt.ylabel('Loss')\n",
    "plt.legend()\n",
    "plt.show()"
   ]
  },
  {
   "cell_type": "markdown",
   "id": "dbfe28a2",
   "metadata": {
    "papermill": {
     "duration": 0.035016,
     "end_time": "2022-09-21T10:55:26.190241",
     "exception": false,
     "start_time": "2022-09-21T10:55:26.155225",
     "status": "completed"
    },
    "tags": []
   },
   "source": [
    "# Evaluate"
   ]
  },
  {
   "cell_type": "markdown",
   "id": "1f8519b3",
   "metadata": {
    "papermill": {
     "duration": 0.035507,
     "end_time": "2022-09-21T10:55:26.260820",
     "exception": false,
     "start_time": "2022-09-21T10:55:26.225313",
     "status": "completed"
    },
    "tags": []
   },
   "source": [
    "Let's explore our model's **accuracy** on the **validation set**."
   ]
  },
  {
   "cell_type": "code",
   "execution_count": 19,
   "id": "943778e2",
   "metadata": {
    "execution": {
     "iopub.execute_input": "2022-09-21T10:55:26.335363Z",
     "iopub.status.busy": "2022-09-21T10:55:26.334639Z",
     "iopub.status.idle": "2022-09-21T10:55:28.551943Z",
     "shell.execute_reply": "2022-09-21T10:55:28.551351Z",
     "shell.execute_reply.started": "2022-08-24T14:33:46.759248Z"
    },
    "papermill": {
     "duration": 2.256069,
     "end_time": "2022-09-21T10:55:28.552112",
     "exception": false,
     "start_time": "2022-09-21T10:55:26.296043",
     "status": "completed"
    },
    "tags": []
   },
   "outputs": [
    {
     "name": "stdout",
     "output_type": "stream",
     "text": [
      "Overall accuracy on test set: 99.6 %\n",
      "Accuracy of 0: 99.8 %\n",
      "Accuracy of 1: 99.6 %\n",
      "Accuracy of 2: 99.5 %\n",
      "Accuracy of 3: 99.5 %\n",
      "Accuracy of 4: 99.5 %\n",
      "Accuracy of 5: 99.7 %\n",
      "Accuracy of 6: 99.8 %\n",
      "Accuracy of 7: 99.8 %\n",
      "Accuracy of 8: 99.5 %\n",
      "Accuracy of 9: 99.2 %\n"
     ]
    }
   ],
   "source": [
    "# Evaluation mode (turn off dropout)\n",
    "model.eval()\n",
    "\n",
    "with torch.no_grad():\n",
    "    n_correct=0\n",
    "    n_samples=0\n",
    "    \n",
    "    n_class_correct = [0 for i in range(10)]\n",
    "    n_class_sample = [0 for i in range(10)]\n",
    "    \n",
    "    for imgs, labels in valid_loader:\n",
    "        imgs = imgs.to(device)\n",
    "        labels = labels.to(device)\n",
    "        output = model(imgs)\n",
    "        \n",
    "        _, preds = torch.max(output, 1)\n",
    "        \n",
    "        n_samples += labels.shape[0]\n",
    "        n_correct += (preds == labels).sum().item()\n",
    "        \n",
    "        for i in range(BATCH_SIZE):\n",
    "            try:\n",
    "                label = labels[i].item()\n",
    "                pred = preds[i].item()\n",
    "            except:\n",
    "                break\n",
    "            \n",
    "            if (label==pred):\n",
    "                n_class_correct[label]+=1\n",
    "            n_class_sample[label]+=1\n",
    "    \n",
    "    acc = 100 * n_correct/n_samples\n",
    "    print(f'Overall accuracy on test set: {acc:.1f} %')\n",
    "    \n",
    "    for i in range(10):\n",
    "        print(f'Accuracy of {i}: {100* n_class_correct[i]/n_class_sample[i]:.1f} %')"
   ]
  },
  {
   "cell_type": "markdown",
   "id": "a371e4db",
   "metadata": {
    "papermill": {
     "duration": 0.036903,
     "end_time": "2022-09-21T10:55:28.625067",
     "exception": false,
     "start_time": "2022-09-21T10:55:28.588164",
     "status": "completed"
    },
    "tags": []
   },
   "source": [
    "# Make predictions\n",
    "\n",
    "Finally, we make predictions on the **test set**."
   ]
  },
  {
   "cell_type": "code",
   "execution_count": 20,
   "id": "2cd10eed",
   "metadata": {
    "execution": {
     "iopub.execute_input": "2022-09-21T10:55:28.711785Z",
     "iopub.status.busy": "2022-09-21T10:55:28.711000Z",
     "iopub.status.idle": "2022-09-21T10:55:43.354629Z",
     "shell.execute_reply": "2022-09-21T10:55:43.354010Z",
     "shell.execute_reply.started": "2022-08-24T14:43:53.501723Z"
    },
    "papermill": {
     "duration": 14.692722,
     "end_time": "2022-09-21T10:55:43.354789",
     "exception": false,
     "start_time": "2022-09-21T10:55:28.662067",
     "status": "completed"
    },
    "tags": []
   },
   "outputs": [
    {
     "name": "stdout",
     "output_type": "stream",
     "text": [
      "\n",
      "Inference complete!\n"
     ]
    }
   ],
   "source": [
    "predictions = []\n",
    "confidences = []\n",
    "\n",
    "with torch.no_grad():\n",
    "    for imgs in test_loader:\n",
    "        imgs = imgs.to(device)\n",
    "        output = model(imgs)\n",
    "        \n",
    "        preds = torch.argmax(output, 1)\n",
    "        confs, _ = torch.max(nn.Softmax(dim=1)(output), dim=1)\n",
    "        \n",
    "        preds = preds.to('cpu')\n",
    "        confs = confs.to('cpu')\n",
    "        \n",
    "        predictions.extend(preds.numpy().tolist())\n",
    "        confidences.extend(confs.numpy().tolist())\n",
    "        \n",
    "print('')\n",
    "print('Inference complete!')"
   ]
  },
  {
   "cell_type": "markdown",
   "id": "ee982ad0",
   "metadata": {
    "papermill": {
     "duration": 0.037253,
     "end_time": "2022-09-21T10:55:43.428318",
     "exception": false,
     "start_time": "2022-09-21T10:55:43.391065",
     "status": "completed"
    },
    "tags": []
   },
   "source": [
    "**Plot predictions**"
   ]
  },
  {
   "cell_type": "code",
   "execution_count": 21,
   "id": "72ab8e06",
   "metadata": {
    "execution": {
     "iopub.execute_input": "2022-09-21T10:55:43.520671Z",
     "iopub.status.busy": "2022-09-21T10:55:43.519680Z",
     "iopub.status.idle": "2022-09-21T10:55:44.563945Z",
     "shell.execute_reply": "2022-09-21T10:55:44.563164Z",
     "shell.execute_reply.started": "2022-08-24T14:43:59.942957Z"
    },
    "papermill": {
     "duration": 1.095521,
     "end_time": "2022-09-21T10:55:44.564098",
     "exception": false,
     "start_time": "2022-09-21T10:55:43.468577",
     "status": "completed"
    },
    "tags": []
   },
   "outputs": [
    {
     "data": {
      "image/png": "[encoded data removed]",
      "text/plain": [
       "<Figure size 1080x288 with 20 Axes>"
      ]
     },
     "metadata": {
      "needs_background": "light"
     },
     "output_type": "display_data"
    }
   ],
   "source": [
    "# Plot some model predictions\n",
    "plt.figure(figsize=(15,4))\n",
    "plt.suptitle('Model predictions', fontsize=20, y=1.05)\n",
    "\n",
    "# Subplot\n",
    "for i in range(20):\n",
    "    img = test_data[i,0,:,:]/255\n",
    "    ax=plt.subplot(2, 10, i+1)\n",
    "    ax.grid(False)\n",
    "    ax.get_xaxis().set_visible(False)\n",
    "    ax.get_yaxis().set_visible(False)\n",
    "    ax.set_title(f'Pred:{predictions[i]} \\n Conf:{np.round(100*confidences[i],1)}', fontdict = {'fontsize':14})\n",
    "    plt.imshow(img, cmap='gray')\n",
    "    \n",
    "plt.show()"
   ]
  },
  {
   "cell_type": "markdown",
   "id": "2f3babba",
   "metadata": {
    "papermill": {
     "duration": 0.051976,
     "end_time": "2022-09-21T10:55:44.657903",
     "exception": false,
     "start_time": "2022-09-21T10:55:44.605927",
     "status": "completed"
    },
    "tags": []
   },
   "source": [
    "**Submit predictions**"
   ]
  },
  {
   "cell_type": "code",
   "execution_count": 22,
   "id": "02c75718",
   "metadata": {
    "execution": {
     "iopub.execute_input": "2022-09-21T10:55:44.766447Z",
     "iopub.status.busy": "2022-09-21T10:55:44.765733Z",
     "iopub.status.idle": "2022-09-21T10:55:44.775010Z",
     "shell.execute_reply": "2022-09-21T10:55:44.774272Z",
     "shell.execute_reply.started": "2022-08-24T14:44:06.440355Z"
    },
    "papermill": {
     "duration": 0.062582,
     "end_time": "2022-09-21T10:55:44.775159",
     "exception": false,
     "start_time": "2022-09-21T10:55:44.712577",
     "status": "completed"
    },
    "tags": []
   },
   "outputs": [
    {
     "data": {
      "text/html": [
       "<div>\n",
       "<style scoped>\n",
       "    .dataframe tbody tr th:only-of-type {\n",
       "        vertical-align: middle;\n",
       "    }\n",
       "\n",
       "    .dataframe tbody tr th {\n",
       "        vertical-align: top;\n",
       "    }\n",
       "\n",
       "    .dataframe thead th {\n",
       "        text-align: right;\n",
       "    }\n",
       "</style>\n",
       "<table border=\"1\" class=\"dataframe\">\n",
       "  <thead>\n",
       "    <tr style=\"text-align: right;\">\n",
       "      <th></th>\n",
       "      <th>ImageId</th>\n",
       "      <th>Label</th>\n",
       "    </tr>\n",
       "  </thead>\n",
       "  <tbody>\n",
       "    <tr>\n",
       "      <th>0</th>\n",
       "      <td>1</td>\n",
       "      <td>2</td>\n",
       "    </tr>\n",
       "    <tr>\n",
       "      <th>1</th>\n",
       "      <td>2</td>\n",
       "      <td>0</td>\n",
       "    </tr>\n",
       "    <tr>\n",
       "      <th>2</th>\n",
       "      <td>3</td>\n",
       "      <td>9</td>\n",
       "    </tr>\n",
       "    <tr>\n",
       "      <th>3</th>\n",
       "      <td>4</td>\n",
       "      <td>0</td>\n",
       "    </tr>\n",
       "    <tr>\n",
       "      <th>4</th>\n",
       "      <td>5</td>\n",
       "      <td>3</td>\n",
       "    </tr>\n",
       "  </tbody>\n",
       "</table>\n",
       "</div>"
      ],
      "text/plain": [
       "   ImageId  Label\n",
       "0        1      2\n",
       "1        2      0\n",
       "2        3      9\n",
       "3        4      0\n",
       "4        5      3"
      ]
     },
     "execution_count": 22,
     "metadata": {},
     "output_type": "execute_result"
    }
   ],
   "source": [
    "# Save predictions to file\n",
    "output = pd.DataFrame({'ImageId': test_index+1, 'Label': predictions})\n",
    "\n",
    "# Check format\n",
    "output.head()"
   ]
  },
  {
   "cell_type": "code",
   "execution_count": 23,
   "id": "a0c086ff",
   "metadata": {
    "execution": {
     "iopub.execute_input": "2022-09-21T10:55:44.864782Z",
     "iopub.status.busy": "2022-09-21T10:55:44.864076Z",
     "iopub.status.idle": "2022-09-21T10:55:44.902439Z",
     "shell.execute_reply": "2022-09-21T10:55:44.901525Z",
     "shell.execute_reply.started": "2022-08-24T14:44:06.608498Z"
    },
    "papermill": {
     "duration": 0.085384,
     "end_time": "2022-09-21T10:55:44.902598",
     "exception": false,
     "start_time": "2022-09-21T10:55:44.817214",
     "status": "completed"
    },
    "tags": []
   },
   "outputs": [],
   "source": [
    "# Output to csv\n",
    "output.to_csv('submission.csv', index=False)"
   ]
  },
  {
   "cell_type": "markdown",
   "id": "e91f2505",
   "metadata": {
    "papermill": {
     "duration": 0.040176,
     "end_time": "2022-09-21T10:55:44.985926",
     "exception": false,
     "start_time": "2022-09-21T10:55:44.945750",
     "status": "completed"
    },
    "tags": []
   },
   "source": [
    "**Check out my other PyTorch tutorials**\n",
    "\n",
    "1. [PT1 - Linear Regression with PyTorch](https://www.kaggle.com/code/samuelcortinhas/pt1-linear-regression-with-pytorch/notebook)\n",
    "2. [PT2 - Logistic Regression with PyTorch](https://www.kaggle.com/code/samuelcortinhas/pt2-logistic-regression-with-pytorch)\n",
    "3. [PT3 - Neural Networks with PyTorch](https://www.kaggle.com/code/samuelcortinhas/pt3-neural-networks-with-pytorch)\n",
    "4. [PT4 - CNNs with PyTorch](https://www.kaggle.com/samuelcortinhas/pt4-cnns-with-pytorch)\n",
    "5. [PT5 - Save & load models with PyTorch](https://www.kaggle.com/samuelcortinhas/pt5-save-load-models-with-pytorch)"
   ]
  }
 ],
 "metadata": {
  "kernelspec": {
   "display_name": "Python 3",
   "language": "python",
   "name": "python3"
  },
  "language_info": {
   "codemirror_mode": {
    "name": "ipython",
    "version": 3
   },
   "file_extension": ".py",
   "mimetype": "text/x-python",
   "name": "python",
   "nbconvert_exporter": "python",
   "pygments_lexer": "ipython3",
   "version": "3.7.10"
  },
  "papermill": {
   "default_parameters": {},
   "duration": 5188.44927,
   "end_time": "2022-09-21T10:55:46.047966",
   "environment_variables": {},
   "exception": null,
   "input_path": "__notebook__.ipynb",
   "output_path": "__notebook__.ipynb",
   "parameters": {},
   "start_time": "2022-09-21T09:29:17.598696",
   "version": "2.3.3"
  }
 },
 "nbformat": 4,
 "nbformat_minor": 5
}
