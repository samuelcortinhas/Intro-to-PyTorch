{
 "cells": [
  {
   "cell_type": "markdown",
   "id": "79127c7c",
   "metadata": {
    "papermill": {
     "duration": 0.003915,
     "end_time": "2022-09-21T09:15:02.780247",
     "exception": false,
     "start_time": "2022-09-21T09:15:02.776332",
     "status": "completed"
    },
    "tags": []
   },
   "source": [
    "# Introduction\n",
    "\n",
    "In general, when working with **PyTorch** there are 4 steps to the training pipeline.\n",
    "\n",
    "1. Preprare the data (convert to tensors, reshape etc)\n",
    "2. Construct the model (usually as a class)\n",
    "3. Define the loss and optimiser\n",
    "4. Write a training loop\n",
    "\n",
    "We will practice these steps on a simple **linear regression** problem.\n",
    "\n",
    "<br>\n",
    "\n",
    "**Libraries**"
   ]
  },
  {
   "cell_type": "code",
   "execution_count": 1,
   "id": "5e1e6d31",
   "metadata": {
    "execution": {
     "iopub.execute_input": "2022-09-21T09:15:02.788904Z",
     "iopub.status.busy": "2022-09-21T09:15:02.788424Z",
     "iopub.status.idle": "2022-09-21T09:15:05.573616Z",
     "shell.execute_reply": "2022-09-21T09:15:05.572602Z"
    },
    "papermill": {
     "duration": 2.793015,
     "end_time": "2022-09-21T09:15:05.576808",
     "exception": false,
     "start_time": "2022-09-21T09:15:02.783793",
     "status": "completed"
    },
    "tags": []
   },
   "outputs": [],
   "source": [
    "import numpy as np\n",
    "from sklearn import datasets\n",
    "import matplotlib.pyplot as plt\n",
    "%matplotlib inline\n",
    "import torch\n",
    "import torch.nn as nn"
   ]
  },
  {
   "cell_type": "markdown",
   "id": "d5e57437",
   "metadata": {
    "papermill": {
     "duration": 0.004301,
     "end_time": "2022-09-21T09:15:05.585846",
     "exception": false,
     "start_time": "2022-09-21T09:15:05.581545",
     "status": "completed"
    },
    "tags": []
   },
   "source": [
    "# 1. Prepare the data\n",
    "\n",
    "We use 'sklearn.datasets' to generate a **linear dataset** with **noise**."
   ]
  },
  {
   "cell_type": "code",
   "execution_count": 2,
   "id": "e086d132",
   "metadata": {
    "execution": {
     "iopub.execute_input": "2022-09-21T09:15:05.596341Z",
     "iopub.status.busy": "2022-09-21T09:15:05.595844Z",
     "iopub.status.idle": "2022-09-21T09:15:05.605084Z",
     "shell.execute_reply": "2022-09-21T09:15:05.603430Z"
    },
    "papermill": {
     "duration": 0.017846,
     "end_time": "2022-09-21T09:15:05.607379",
     "exception": false,
     "start_time": "2022-09-21T09:15:05.589533",
     "status": "completed"
    },
    "tags": []
   },
   "outputs": [
    {
     "name": "stdout",
     "output_type": "stream",
     "text": [
      "X shape (100, 1)\n",
      "y shape: (100,)\n"
     ]
    }
   ],
   "source": [
    "# Generate data\n",
    "X_np, y_np = datasets.make_regression(n_samples=100, n_features=1, noise=10, random_state=0)\n",
    "print(f'X shape {X_np.shape}')\n",
    "print(f'y shape: {y_np.shape}')"
   ]
  },
  {
   "cell_type": "code",
   "execution_count": 3,
   "id": "8c0420e0",
   "metadata": {
    "execution": {
     "iopub.execute_input": "2022-09-21T09:15:05.618195Z",
     "iopub.status.busy": "2022-09-21T09:15:05.617559Z",
     "iopub.status.idle": "2022-09-21T09:15:05.786912Z",
     "shell.execute_reply": "2022-09-21T09:15:05.785606Z"
    },
    "papermill": {
     "duration": 0.17782,
     "end_time": "2022-09-21T09:15:05.788917",
     "exception": false,
     "start_time": "2022-09-21T09:15:05.611097",
     "status": "completed"
    },
    "tags": []
   },
   "outputs": [
    {
     "data": {
      "image/png": "[encoded data removed]",
      "text/plain": [
       "<Figure size 432x288 with 1 Axes>"
      ]
     },
     "metadata": {
      "needs_background": "light"
     },
     "output_type": "display_data"
    }
   ],
   "source": [
    "# Plot data\n",
    "plt.figure(figsize=(6,4))\n",
    "plt.scatter(X_np,y_np)\n",
    "plt.title('Training data', fontsize=20)\n",
    "plt.xlabel('X')\n",
    "plt.ylabel('y')\n",
    "plt.show()"
   ]
  },
  {
   "cell_type": "code",
   "execution_count": 4,
   "id": "779e6916",
   "metadata": {
    "execution": {
     "iopub.execute_input": "2022-09-21T09:15:05.798300Z",
     "iopub.status.busy": "2022-09-21T09:15:05.797928Z",
     "iopub.status.idle": "2022-09-21T09:15:05.803648Z",
     "shell.execute_reply": "2022-09-21T09:15:05.802559Z"
    },
    "papermill": {
     "duration": 0.012876,
     "end_time": "2022-09-21T09:15:05.805922",
     "exception": false,
     "start_time": "2022-09-21T09:15:05.793046",
     "status": "completed"
    },
    "tags": []
   },
   "outputs": [
    {
     "name": "stdout",
     "output_type": "stream",
     "text": [
      "X shape torch.Size([100, 1])\n",
      "y shape: torch.Size([100])\n"
     ]
    }
   ],
   "source": [
    "# Convert numpy arrays to tensors\n",
    "X = torch.from_numpy(X_np.astype(np.float32))\n",
    "y = torch.from_numpy(y_np.astype(np.float32))\n",
    "print(f'X shape {X.shape}')\n",
    "print(f'y shape: {y.shape}')"
   ]
  },
  {
   "cell_type": "code",
   "execution_count": 5,
   "id": "a10a66a4",
   "metadata": {
    "execution": {
     "iopub.execute_input": "2022-09-21T09:15:05.814735Z",
     "iopub.status.busy": "2022-09-21T09:15:05.814436Z",
     "iopub.status.idle": "2022-09-21T09:15:05.820494Z",
     "shell.execute_reply": "2022-09-21T09:15:05.819252Z"
    },
    "papermill": {
     "duration": 0.013181,
     "end_time": "2022-09-21T09:15:05.822821",
     "exception": false,
     "start_time": "2022-09-21T09:15:05.809640",
     "status": "completed"
    },
    "tags": []
   },
   "outputs": [
    {
     "name": "stdout",
     "output_type": "stream",
     "text": [
      "y shape: torch.Size([100, 1])\n"
     ]
    }
   ],
   "source": [
    "# Reshape to column vector\n",
    "y = y.view(-1,1)\n",
    "print(f'y shape: {y.shape}')"
   ]
  },
  {
   "cell_type": "markdown",
   "id": "5388b994",
   "metadata": {
    "papermill": {
     "duration": 0.004904,
     "end_time": "2022-09-21T09:15:05.831689",
     "exception": false,
     "start_time": "2022-09-21T09:15:05.826785",
     "status": "completed"
    },
    "tags": []
   },
   "source": [
    "# 2. Construct the model\n",
    "\n",
    "When working with neural networks, we need to **inherit** the '**nn.Module**' and define a '**forward**' attribute. \n",
    "\n",
    "The inheritance part is done to get access to **attributes** like '**model.parameters()**', which are used in training."
   ]
  },
  {
   "cell_type": "code",
   "execution_count": 6,
   "id": "0e55ae6e",
   "metadata": {
    "execution": {
     "iopub.execute_input": "2022-09-21T09:15:05.841027Z",
     "iopub.status.busy": "2022-09-21T09:15:05.840691Z",
     "iopub.status.idle": "2022-09-21T09:15:05.851471Z",
     "shell.execute_reply": "2022-09-21T09:15:05.850054Z"
    },
    "papermill": {
     "duration": 0.018028,
     "end_time": "2022-09-21T09:15:05.853775",
     "exception": false,
     "start_time": "2022-09-21T09:15:05.835747",
     "status": "completed"
    },
    "tags": []
   },
   "outputs": [],
   "source": [
    "# Model\n",
    "class LinearRegression(nn.Module):\n",
    "    def __init__(self, input_dim, output_dim):\n",
    "        super().__init__()\n",
    "        \n",
    "        # Define layers\n",
    "        self.lin = nn.Linear(input_dim, output_dim)\n",
    "        \n",
    "    # Forward propagation\n",
    "    def forward(self,x):\n",
    "        return self.lin(x)\n",
    "\n",
    "model = LinearRegression(1,1)"
   ]
  },
  {
   "cell_type": "markdown",
   "id": "bed032c0",
   "metadata": {
    "papermill": {
     "duration": 0.003741,
     "end_time": "2022-09-21T09:15:05.861707",
     "exception": false,
     "start_time": "2022-09-21T09:15:05.857966",
     "status": "completed"
    },
    "tags": []
   },
   "source": [
    "# 3. Define the loss and optimiser\n",
    "\n",
    "The loss function is called from the '**torch.nn**' library and the optimiser from the '**torch.optim**' library. "
   ]
  },
  {
   "cell_type": "code",
   "execution_count": 7,
   "id": "f17d8a5b",
   "metadata": {
    "execution": {
     "iopub.execute_input": "2022-09-21T09:15:05.871146Z",
     "iopub.status.busy": "2022-09-21T09:15:05.870775Z",
     "iopub.status.idle": "2022-09-21T09:15:05.875823Z",
     "shell.execute_reply": "2022-09-21T09:15:05.874819Z"
    },
    "papermill": {
     "duration": 0.012159,
     "end_time": "2022-09-21T09:15:05.877810",
     "exception": false,
     "start_time": "2022-09-21T09:15:05.865651",
     "status": "completed"
    },
    "tags": []
   },
   "outputs": [],
   "source": [
    "# Mean squared error loss\n",
    "loss = nn.MSELoss()\n",
    "\n",
    "# Stocastic gradient descent optimiser\n",
    "optimiser = torch.optim.SGD(params=model.parameters(), lr=0.01)"
   ]
  },
  {
   "cell_type": "markdown",
   "id": "964ad585",
   "metadata": {
    "papermill": {
     "duration": 0.003361,
     "end_time": "2022-09-21T09:15:05.885085",
     "exception": false,
     "start_time": "2022-09-21T09:15:05.881724",
     "status": "completed"
    },
    "tags": []
   },
   "source": [
    "# 4. Write a training loop\n",
    "\n",
    "The most **important** thing to remember with PyTorch is that after every epoch, you have to **zero the gradients** (otherwise they will accumulate and explode)."
   ]
  },
  {
   "cell_type": "code",
   "execution_count": 8,
   "id": "e0c6296c",
   "metadata": {
    "execution": {
     "iopub.execute_input": "2022-09-21T09:15:05.894071Z",
     "iopub.status.busy": "2022-09-21T09:15:05.893770Z",
     "iopub.status.idle": "2022-09-21T09:15:05.973838Z",
     "shell.execute_reply": "2022-09-21T09:15:05.972580Z"
    },
    "papermill": {
     "duration": 0.087104,
     "end_time": "2022-09-21T09:15:05.975744",
     "exception": false,
     "start_time": "2022-09-21T09:15:05.888640",
     "status": "completed"
    },
    "tags": []
   },
   "outputs": [
    {
     "name": "stdout",
     "output_type": "stream",
     "text": [
      "Epoch 0, loss 1889.515\n",
      "Epoch 50, loss 340.540\n",
      "Epoch 100, loss 143.475\n",
      "Epoch 150, loss 118.023\n",
      "Epoch 200, loss 114.685\n",
      "Epoch 250, loss 114.241\n"
     ]
    }
   ],
   "source": [
    "# Number of epochs\n",
    "n_iters = 300\n",
    "\n",
    "# Loop\n",
    "for epoch in range(n_iters):\n",
    "    # Forward pass\n",
    "    y_pred = model(X)\n",
    "    L = loss(y_pred, y)\n",
    "    \n",
    "    # Backprop\n",
    "    L.backward()\n",
    "    \n",
    "    # Update parameters\n",
    "    optimiser.step()\n",
    "    \n",
    "    # Zero gradients\n",
    "    optimiser.zero_grad()\n",
    "    \n",
    "    # Print loss\n",
    "    if epoch % 50 == 0:\n",
    "        print(f'Epoch {epoch}, loss {L.item():.3f}')"
   ]
  },
  {
   "cell_type": "markdown",
   "id": "7d8e8206",
   "metadata": {
    "papermill": {
     "duration": 0.003477,
     "end_time": "2022-09-21T09:15:05.983023",
     "exception": false,
     "start_time": "2022-09-21T09:15:05.979546",
     "status": "completed"
    },
    "tags": []
   },
   "source": [
    "# Evaluate\n",
    "\n",
    "Finally, we plot the linear model over the data."
   ]
  },
  {
   "cell_type": "code",
   "execution_count": 9,
   "id": "79d7417c",
   "metadata": {
    "execution": {
     "iopub.execute_input": "2022-09-21T09:15:05.991792Z",
     "iopub.status.busy": "2022-09-21T09:15:05.991473Z",
     "iopub.status.idle": "2022-09-21T09:15:06.099484Z",
     "shell.execute_reply": "2022-09-21T09:15:06.098479Z"
    },
    "papermill": {
     "duration": 0.115934,
     "end_time": "2022-09-21T09:15:06.102673",
     "exception": false,
     "start_time": "2022-09-21T09:15:05.986739",
     "status": "completed"
    },
    "tags": []
   },
   "outputs": [
    {
     "data": {
      "image/png": "[encoded data removed]",
      "text/plain": [
       "<Figure size 432x288 with 1 Axes>"
      ]
     },
     "metadata": {
      "needs_background": "light"
     },
     "output_type": "display_data"
    }
   ],
   "source": [
    "plt.figure(figsize=(6,4))\n",
    "plt.scatter(X_np,y_np)\n",
    "plt.plot(X_np,model(X).detach().numpy(), color='red')\n",
    "plt.title('Linear model', fontsize=20)\n",
    "plt.xlabel('X')\n",
    "plt.ylabel('y')\n",
    "plt.show()"
   ]
  },
  {
   "cell_type": "markdown",
   "id": "ddc99fb1",
   "metadata": {
    "papermill": {
     "duration": 0.003689,
     "end_time": "2022-09-21T09:15:06.110596",
     "exception": false,
     "start_time": "2022-09-21T09:15:06.106907",
     "status": "completed"
    },
    "tags": []
   },
   "source": [
    "**Check out my other PyTorch tutorials**\n",
    "\n",
    "1. [PT1 - Linear Regression with PyTorch](https://www.kaggle.com/code/samuelcortinhas/pt1-linear-regression-with-pytorch/notebook)\n",
    "2. [PT2 - Logistic Regression with PyTorch](https://www.kaggle.com/code/samuelcortinhas/pt2-logistic-regression-with-pytorch)\n",
    "3. [PT3 - Neural Networks with PyTorch](https://www.kaggle.com/code/samuelcortinhas/pt3-neural-networks-with-pytorch)\n",
    "4. [PT4 - CNNs with PyTorch](https://www.kaggle.com/samuelcortinhas/pt4-cnns-with-pytorch)\n",
    "5. [PT5 - Save & load models with PyTorch](https://www.kaggle.com/samuelcortinhas/pt5-save-load-models-with-pytorch)"
   ]
  }
 ],
 "metadata": {
  "kernelspec": {
   "display_name": "Python 3",
   "language": "python",
   "name": "python3"
  },
  "language_info": {
   "codemirror_mode": {
    "name": "ipython",
    "version": 3
   },
   "file_extension": ".py",
   "mimetype": "text/x-python",
   "name": "python",
   "nbconvert_exporter": "python",
   "pygments_lexer": "ipython3",
   "version": "3.7.12"
  },
  "papermill": {
   "default_parameters": {},
   "duration": 11.595693,
   "end_time": "2022-09-21T09:15:06.938043",
   "environment_variables": {},
   "exception": null,
   "input_path": "__notebook__.ipynb",
   "output_path": "__notebook__.ipynb",
   "parameters": {},
   "start_time": "2022-09-21T09:14:55.342350",
   "version": "2.3.4"
  }
 },
 "nbformat": 4,
 "nbformat_minor": 5
}
