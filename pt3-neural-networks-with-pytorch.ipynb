{
 "cells": [
  {
   "cell_type": "markdown",
   "id": "4c0f482a",
   "metadata": {
    "papermill": {
     "duration": 0.030405,
     "end_time": "2022-09-21T09:18:56.862619",
     "exception": false,
     "start_time": "2022-09-21T09:18:56.832214",
     "status": "completed"
    },
    "tags": []
   },
   "source": [
    "# Introduction\n",
    "\n",
    "In this notebook, we will practice using **PyTorch** to create **neural networks**. We will be training a **feedforward** neural network for the **MNIST digit classification** task.\n",
    "\n",
    "1. Prepare the data (dataset & dataloader)\n",
    "2. Construct the model\n",
    "3. Define the loss and optimiser\n",
    "4. Write a training loop"
   ]
  },
  {
   "cell_type": "markdown",
   "id": "09f8bce5",
   "metadata": {
    "papermill": {
     "duration": 0.026514,
     "end_time": "2022-09-21T09:18:56.917110",
     "exception": false,
     "start_time": "2022-09-21T09:18:56.890596",
     "status": "completed"
    },
    "tags": []
   },
   "source": [
    "**Libraries**"
   ]
  },
  {
   "cell_type": "code",
   "execution_count": 1,
   "id": "a6785d08",
   "metadata": {
    "execution": {
     "iopub.execute_input": "2022-09-21T09:18:56.975298Z",
     "iopub.status.busy": "2022-09-21T09:18:56.974071Z",
     "iopub.status.idle": "2022-09-21T09:18:59.229573Z",
     "shell.execute_reply": "2022-09-21T09:18:59.228456Z",
     "shell.execute_reply.started": "2022-08-24T19:41:36.441023Z"
    },
    "papermill": {
     "duration": 2.286079,
     "end_time": "2022-09-21T09:18:59.229781",
     "exception": false,
     "start_time": "2022-09-21T09:18:56.943702",
     "status": "completed"
    },
    "tags": []
   },
   "outputs": [],
   "source": [
    "# Core\n",
    "import numpy as np\n",
    "import pandas as pd\n",
    "import seaborn as sns\n",
    "sns.set_style('darkgrid')\n",
    "sns.set(style='darkgrid', font_scale=1.4)\n",
    "import matplotlib.pyplot as plt\n",
    "%matplotlib inline\n",
    "\n",
    "# Sklearn\n",
    "from sklearn.model_selection import train_test_split\n",
    "from sklearn.preprocessing import StandardScaler, OneHotEncoder\n",
    "from sklearn.impute import SimpleImputer\n",
    "from sklearn.pipeline import make_pipeline\n",
    "from sklearn.compose import make_column_transformer\n",
    "\n",
    "# Pytorch\n",
    "import torch\n",
    "import torch.nn as nn\n",
    "import torch.optim as optim\n",
    "from torch.utils.data import Dataset, DataLoader"
   ]
  },
  {
   "cell_type": "markdown",
   "id": "936279a4",
   "metadata": {
    "papermill": {
     "duration": 0.025821,
     "end_time": "2022-09-21T09:18:59.281740",
     "exception": false,
     "start_time": "2022-09-21T09:18:59.255919",
     "status": "completed"
    },
    "tags": []
   },
   "source": [
    "**Config**"
   ]
  },
  {
   "cell_type": "code",
   "execution_count": 2,
   "id": "c77406a0",
   "metadata": {
    "execution": {
     "iopub.execute_input": "2022-09-21T09:18:59.336721Z",
     "iopub.status.busy": "2022-09-21T09:18:59.336027Z",
     "iopub.status.idle": "2022-09-21T09:18:59.339617Z",
     "shell.execute_reply": "2022-09-21T09:18:59.340171Z",
     "shell.execute_reply.started": "2022-08-24T19:41:39.238746Z"
    },
    "papermill": {
     "duration": 0.032599,
     "end_time": "2022-09-21T09:18:59.340335",
     "exception": false,
     "start_time": "2022-09-21T09:18:59.307736",
     "status": "completed"
    },
    "tags": []
   },
   "outputs": [],
   "source": [
    "# Hyperparameters\n",
    "BATCH_SIZE = 16\n",
    "LEARNING_RATE = 0.001\n",
    "N_EPOCHS = 20\n",
    "\n",
    "# Network dims\n",
    "LAYER1_SIZE=256\n",
    "LAYER2_SIZE=256\n",
    "DROPOUT_RATE=0.3"
   ]
  },
  {
   "cell_type": "markdown",
   "id": "28a3919d",
   "metadata": {
    "papermill": {
     "duration": 0.025599,
     "end_time": "2022-09-21T09:18:59.391749",
     "exception": false,
     "start_time": "2022-09-21T09:18:59.366150",
     "status": "completed"
    },
    "tags": []
   },
   "source": [
    "Connect to **GPU** if available, otherwise use the **CPU**."
   ]
  },
  {
   "cell_type": "code",
   "execution_count": 3,
   "id": "0a8fbd23",
   "metadata": {
    "execution": {
     "iopub.execute_input": "2022-09-21T09:18:59.451228Z",
     "iopub.status.busy": "2022-09-21T09:18:59.446319Z",
     "iopub.status.idle": "2022-09-21T09:18:59.454471Z",
     "shell.execute_reply": "2022-09-21T09:18:59.454988Z",
     "shell.execute_reply.started": "2022-08-24T19:41:39.246248Z"
    },
    "papermill": {
     "duration": 0.03717,
     "end_time": "2022-09-21T09:18:59.455175",
     "exception": false,
     "start_time": "2022-09-21T09:18:59.418005",
     "status": "completed"
    },
    "tags": []
   },
   "outputs": [
    {
     "data": {
      "text/plain": [
       "device(type='cpu')"
      ]
     },
     "execution_count": 3,
     "metadata": {},
     "output_type": "execute_result"
    }
   ],
   "source": [
    "# Config device\n",
    "device = torch.device('cuda' if torch.cuda.is_available() else 'cpu')\n",
    "device"
   ]
  },
  {
   "cell_type": "markdown",
   "id": "71596256",
   "metadata": {
    "papermill": {
     "duration": 0.025754,
     "end_time": "2022-09-21T09:18:59.507925",
     "exception": false,
     "start_time": "2022-09-21T09:18:59.482171",
     "status": "completed"
    },
    "tags": []
   },
   "source": [
    "To use the **device**, in general we need to send the **model**, **features** and **labels** to the device.\n",
    "1. `model.to(device)`\n",
    "2. `features = features.to(device)`\n",
    "3. `labels = labels.to(device)`"
   ]
  },
  {
   "cell_type": "markdown",
   "id": "bf23418f",
   "metadata": {
    "papermill": {
     "duration": 0.025816,
     "end_time": "2022-09-21T09:18:59.559826",
     "exception": false,
     "start_time": "2022-09-21T09:18:59.534010",
     "status": "completed"
    },
    "tags": []
   },
   "source": [
    "# Data"
   ]
  },
  {
   "cell_type": "markdown",
   "id": "08317c59",
   "metadata": {
    "papermill": {
     "duration": 0.025794,
     "end_time": "2022-09-21T09:18:59.612108",
     "exception": false,
     "start_time": "2022-09-21T09:18:59.586314",
     "status": "completed"
    },
    "tags": []
   },
   "source": [
    "**Load data**"
   ]
  },
  {
   "cell_type": "code",
   "execution_count": 4,
   "id": "10461194",
   "metadata": {
    "_kg_hide-input": false,
    "execution": {
     "iopub.execute_input": "2022-09-21T09:18:59.670256Z",
     "iopub.status.busy": "2022-09-21T09:18:59.669494Z",
     "iopub.status.idle": "2022-09-21T09:19:05.488042Z",
     "shell.execute_reply": "2022-09-21T09:19:05.488769Z",
     "shell.execute_reply.started": "2022-08-24T19:41:39.262305Z"
    },
    "papermill": {
     "duration": 5.850673,
     "end_time": "2022-09-21T09:19:05.488999",
     "exception": false,
     "start_time": "2022-09-21T09:18:59.638326",
     "status": "completed"
    },
    "tags": []
   },
   "outputs": [
    {
     "name": "stdout",
     "output_type": "stream",
     "text": [
      "(42000, 785)\n"
     ]
    },
    {
     "data": {
      "text/html": [
       "<div>\n",
       "<style scoped>\n",
       "    .dataframe tbody tr th:only-of-type {\n",
       "        vertical-align: middle;\n",
       "    }\n",
       "\n",
       "    .dataframe tbody tr th {\n",
       "        vertical-align: top;\n",
       "    }\n",
       "\n",
       "    .dataframe thead th {\n",
       "        text-align: right;\n",
       "    }\n",
       "</style>\n",
       "<table border=\"1\" class=\"dataframe\">\n",
       "  <thead>\n",
       "    <tr style=\"text-align: right;\">\n",
       "      <th></th>\n",
       "      <th>label</th>\n",
       "      <th>pixel0</th>\n",
       "      <th>pixel1</th>\n",
       "      <th>pixel2</th>\n",
       "      <th>pixel3</th>\n",
       "      <th>pixel4</th>\n",
       "      <th>pixel5</th>\n",
       "      <th>pixel6</th>\n",
       "      <th>pixel7</th>\n",
       "      <th>pixel8</th>\n",
       "      <th>...</th>\n",
       "      <th>pixel774</th>\n",
       "      <th>pixel775</th>\n",
       "      <th>pixel776</th>\n",
       "      <th>pixel777</th>\n",
       "      <th>pixel778</th>\n",
       "      <th>pixel779</th>\n",
       "      <th>pixel780</th>\n",
       "      <th>pixel781</th>\n",
       "      <th>pixel782</th>\n",
       "      <th>pixel783</th>\n",
       "    </tr>\n",
       "  </thead>\n",
       "  <tbody>\n",
       "    <tr>\n",
       "      <th>0</th>\n",
       "      <td>1</td>\n",
       "      <td>0</td>\n",
       "      <td>0</td>\n",
       "      <td>0</td>\n",
       "      <td>0</td>\n",
       "      <td>0</td>\n",
       "      <td>0</td>\n",
       "      <td>0</td>\n",
       "      <td>0</td>\n",
       "      <td>0</td>\n",
       "      <td>...</td>\n",
       "      <td>0</td>\n",
       "      <td>0</td>\n",
       "      <td>0</td>\n",
       "      <td>0</td>\n",
       "      <td>0</td>\n",
       "      <td>0</td>\n",
       "      <td>0</td>\n",
       "      <td>0</td>\n",
       "      <td>0</td>\n",
       "      <td>0</td>\n",
       "    </tr>\n",
       "    <tr>\n",
       "      <th>1</th>\n",
       "      <td>0</td>\n",
       "      <td>0</td>\n",
       "      <td>0</td>\n",
       "      <td>0</td>\n",
       "      <td>0</td>\n",
       "      <td>0</td>\n",
       "      <td>0</td>\n",
       "      <td>0</td>\n",
       "      <td>0</td>\n",
       "      <td>0</td>\n",
       "      <td>...</td>\n",
       "      <td>0</td>\n",
       "      <td>0</td>\n",
       "      <td>0</td>\n",
       "      <td>0</td>\n",
       "      <td>0</td>\n",
       "      <td>0</td>\n",
       "      <td>0</td>\n",
       "      <td>0</td>\n",
       "      <td>0</td>\n",
       "      <td>0</td>\n",
       "    </tr>\n",
       "    <tr>\n",
       "      <th>2</th>\n",
       "      <td>1</td>\n",
       "      <td>0</td>\n",
       "      <td>0</td>\n",
       "      <td>0</td>\n",
       "      <td>0</td>\n",
       "      <td>0</td>\n",
       "      <td>0</td>\n",
       "      <td>0</td>\n",
       "      <td>0</td>\n",
       "      <td>0</td>\n",
       "      <td>...</td>\n",
       "      <td>0</td>\n",
       "      <td>0</td>\n",
       "      <td>0</td>\n",
       "      <td>0</td>\n",
       "      <td>0</td>\n",
       "      <td>0</td>\n",
       "      <td>0</td>\n",
       "      <td>0</td>\n",
       "      <td>0</td>\n",
       "      <td>0</td>\n",
       "    </tr>\n",
       "  </tbody>\n",
       "</table>\n",
       "<p>3 rows × 785 columns</p>\n",
       "</div>"
      ],
      "text/plain": [
       "   label  pixel0  pixel1  pixel2  pixel3  pixel4  pixel5  pixel6  pixel7  \\\n",
       "0      1       0       0       0       0       0       0       0       0   \n",
       "1      0       0       0       0       0       0       0       0       0   \n",
       "2      1       0       0       0       0       0       0       0       0   \n",
       "\n",
       "   pixel8  ...  pixel774  pixel775  pixel776  pixel777  pixel778  pixel779  \\\n",
       "0       0  ...         0         0         0         0         0         0   \n",
       "1       0  ...         0         0         0         0         0         0   \n",
       "2       0  ...         0         0         0         0         0         0   \n",
       "\n",
       "   pixel780  pixel781  pixel782  pixel783  \n",
       "0         0         0         0         0  \n",
       "1         0         0         0         0  \n",
       "2         0         0         0         0  \n",
       "\n",
       "[3 rows x 785 columns]"
      ]
     },
     "execution_count": 4,
     "metadata": {},
     "output_type": "execute_result"
    }
   ],
   "source": [
    "# Training data\n",
    "train_data=pd.read_csv('../input/digit-recognizer/train.csv')\n",
    "\n",
    "# Test data scaled to lie in [0,1]\n",
    "test_data=pd.read_csv('../input/digit-recognizer/test.csv')/255\n",
    "\n",
    "# Shape and preview\n",
    "print(train_data.shape)\n",
    "train_data.head(3)"
   ]
  },
  {
   "cell_type": "markdown",
   "id": "7d6190b7",
   "metadata": {
    "papermill": {
     "duration": 0.026795,
     "end_time": "2022-09-21T09:19:05.543289",
     "exception": false,
     "start_time": "2022-09-21T09:19:05.516494",
     "status": "completed"
    },
    "tags": []
   },
   "source": [
    "**Check for null values**"
   ]
  },
  {
   "cell_type": "code",
   "execution_count": 5,
   "id": "a1a23dd9",
   "metadata": {
    "_kg_hide-input": false,
    "execution": {
     "iopub.execute_input": "2022-09-21T09:19:05.616237Z",
     "iopub.status.busy": "2022-09-21T09:19:05.615544Z",
     "iopub.status.idle": "2022-09-21T09:19:05.722597Z",
     "shell.execute_reply": "2022-09-21T09:19:05.723695Z",
     "shell.execute_reply.started": "2022-08-24T19:41:45.208760Z"
    },
    "papermill": {
     "duration": 0.145916,
     "end_time": "2022-09-21T09:19:05.723911",
     "exception": false,
     "start_time": "2022-09-21T09:19:05.577995",
     "status": "completed"
    },
    "tags": []
   },
   "outputs": [
    {
     "name": "stdout",
     "output_type": "stream",
     "text": [
      "Number of null values in training set: 0\n",
      "\n",
      "Number of null values in test set: 0\n"
     ]
    }
   ],
   "source": [
    "print('Number of null values in training set:',train_data.isnull().sum().sum())\n",
    "print('')\n",
    "print('Number of null values in test set:',test_data.isnull().sum().sum())"
   ]
  },
  {
   "cell_type": "markdown",
   "id": "4e53f911",
   "metadata": {
    "papermill": {
     "duration": 0.038612,
     "end_time": "2022-09-21T09:19:05.806084",
     "exception": false,
     "start_time": "2022-09-21T09:19:05.767472",
     "status": "completed"
    },
    "tags": []
   },
   "source": [
    "**Preview first few images**"
   ]
  },
  {
   "cell_type": "code",
   "execution_count": 6,
   "id": "0ba779cc",
   "metadata": {
    "execution": {
     "iopub.execute_input": "2022-09-21T09:19:05.879204Z",
     "iopub.status.busy": "2022-09-21T09:19:05.878447Z",
     "iopub.status.idle": "2022-09-21T09:19:06.379977Z",
     "shell.execute_reply": "2022-09-21T09:19:06.380509Z",
     "shell.execute_reply.started": "2022-08-24T19:41:45.320664Z"
    },
    "papermill": {
     "duration": 0.543763,
     "end_time": "2022-09-21T09:19:06.380703",
     "exception": false,
     "start_time": "2022-09-21T09:19:05.836940",
     "status": "completed"
    },
    "tags": []
   },
   "outputs": [
    {
     "data": {
      "image/png": "[encoded data removed]",
      "text/plain": [
       "<Figure size 576x576 with 9 Axes>"
      ]
     },
     "metadata": {
      "needs_background": "light"
     },
     "output_type": "display_data"
    }
   ],
   "source": [
    "# Figure size\n",
    "plt.figure(figsize=(8,8))\n",
    "\n",
    "# Subplot\n",
    "for i in range(9):\n",
    "    img = np.asarray(train_data.iloc[i+180,1:].values.reshape((28,28))/255)\n",
    "    ax=plt.subplot(3, 3, i+1)\n",
    "    ax.grid(False)\n",
    "    ax.get_xaxis().set_visible(False)\n",
    "    ax.get_yaxis().set_visible(False)\n",
    "    ax.title.set_text(f'{train_data.iloc[i+180,0]}')\n",
    "    plt.imshow(img, cmap='gray')\n",
    "    \n",
    "plt.show()"
   ]
  },
  {
   "cell_type": "markdown",
   "id": "e0e07043",
   "metadata": {
    "papermill": {
     "duration": 0.027988,
     "end_time": "2022-09-21T09:19:06.437229",
     "exception": false,
     "start_time": "2022-09-21T09:19:06.409241",
     "status": "completed"
    },
    "tags": []
   },
   "source": [
    "**Explore label distribution**"
   ]
  },
  {
   "cell_type": "code",
   "execution_count": 7,
   "id": "20649666",
   "metadata": {
    "_kg_hide-input": false,
    "execution": {
     "iopub.execute_input": "2022-09-21T09:19:06.497231Z",
     "iopub.status.busy": "2022-09-21T09:19:06.496547Z",
     "iopub.status.idle": "2022-09-21T09:19:06.800086Z",
     "shell.execute_reply": "2022-09-21T09:19:06.800612Z",
     "shell.execute_reply.started": "2022-08-24T19:41:45.850003Z"
    },
    "papermill": {
     "duration": 0.335405,
     "end_time": "2022-09-21T09:19:06.800819",
     "exception": false,
     "start_time": "2022-09-21T09:19:06.465414",
     "status": "completed"
    },
    "tags": []
   },
   "outputs": [
    {
     "data": {
      "text/plain": [
       "Text(0.5, 1.0, 'Distribution of labels in training set')"
      ]
     },
     "execution_count": 7,
     "metadata": {},
     "output_type": "execute_result"
    },
    {
     "data": {
      "image/png": "[encoded data removed]",
      "text/plain": [
       "<Figure size 576x288 with 1 Axes>"
      ]
     },
     "metadata": {
      "needs_background": "light"
     },
     "output_type": "display_data"
    }
   ],
   "source": [
    "# Countplot\n",
    "plt.figure(figsize=(8,4))\n",
    "sns.countplot(x='label', data=train_data)\n",
    "plt.title('Distribution of labels in training set')"
   ]
  },
  {
   "cell_type": "markdown",
   "id": "c7f6c7f9",
   "metadata": {
    "papermill": {
     "duration": 0.029373,
     "end_time": "2022-09-21T09:19:06.860616",
     "exception": false,
     "start_time": "2022-09-21T09:19:06.831243",
     "status": "completed"
    },
    "tags": []
   },
   "source": [
    "**Labels and features**"
   ]
  },
  {
   "cell_type": "code",
   "execution_count": 8,
   "id": "5a61801d",
   "metadata": {
    "execution": {
     "iopub.execute_input": "2022-09-21T09:19:06.923162Z",
     "iopub.status.busy": "2022-09-21T09:19:06.922196Z",
     "iopub.status.idle": "2022-09-21T09:19:07.080653Z",
     "shell.execute_reply": "2022-09-21T09:19:07.080015Z",
     "shell.execute_reply.started": "2022-08-24T19:41:46.194373Z"
    },
    "papermill": {
     "duration": 0.190764,
     "end_time": "2022-09-21T09:19:07.080802",
     "exception": false,
     "start_time": "2022-09-21T09:19:06.890038",
     "status": "completed"
    },
    "tags": []
   },
   "outputs": [],
   "source": [
    "# Labels\n",
    "y=train_data.label\n",
    "\n",
    "# Features scaled to lie in [0,1]\n",
    "X=train_data.drop('label', axis=1)/255"
   ]
  },
  {
   "cell_type": "markdown",
   "id": "43665341",
   "metadata": {
    "papermill": {
     "duration": 0.028983,
     "end_time": "2022-09-21T09:19:07.139376",
     "exception": false,
     "start_time": "2022-09-21T09:19:07.110393",
     "status": "completed"
    },
    "tags": []
   },
   "source": [
    "**Break off validation set**"
   ]
  },
  {
   "cell_type": "code",
   "execution_count": 9,
   "id": "a5a7434c",
   "metadata": {
    "execution": {
     "iopub.execute_input": "2022-09-21T09:19:07.204841Z",
     "iopub.status.busy": "2022-09-21T09:19:07.204153Z",
     "iopub.status.idle": "2022-09-21T09:19:07.429238Z",
     "shell.execute_reply": "2022-09-21T09:19:07.428563Z",
     "shell.execute_reply.started": "2022-08-24T19:41:46.377815Z"
    },
    "papermill": {
     "duration": 0.260899,
     "end_time": "2022-09-21T09:19:07.429388",
     "exception": false,
     "start_time": "2022-09-21T09:19:07.168489",
     "status": "completed"
    },
    "tags": []
   },
   "outputs": [],
   "source": [
    "X_train, X_valid, y_train, y_valid = train_test_split(X, y, train_size=0.9, test_size=0.1, random_state=0)"
   ]
  },
  {
   "cell_type": "markdown",
   "id": "60eafbf7",
   "metadata": {
    "papermill": {
     "duration": 0.029718,
     "end_time": "2022-09-21T09:19:07.489233",
     "exception": false,
     "start_time": "2022-09-21T09:19:07.459515",
     "status": "completed"
    },
    "tags": []
   },
   "source": [
    "# Dataset & Dataloader\n",
    "\n",
    "A **dataloader** will feed in **batches** of training examples to the model. This is especially **useful** for very **large datasets** where you can't load the whole dataset in one go. \n",
    "\n",
    "As input, it needs a **dataset**, which is created in a class and requires the `__init__`, `__getitem__` and `__len__` attributes."
   ]
  },
  {
   "cell_type": "code",
   "execution_count": 10,
   "id": "1b241ad3",
   "metadata": {
    "execution": {
     "iopub.execute_input": "2022-09-21T09:19:07.560270Z",
     "iopub.status.busy": "2022-09-21T09:19:07.558100Z",
     "iopub.status.idle": "2022-09-21T09:19:07.665322Z",
     "shell.execute_reply": "2022-09-21T09:19:07.665842Z",
     "shell.execute_reply.started": "2022-08-24T19:41:46.627633Z"
    },
    "papermill": {
     "duration": 0.147098,
     "end_time": "2022-09-21T09:19:07.666037",
     "exception": false,
     "start_time": "2022-09-21T09:19:07.518939",
     "status": "completed"
    },
    "tags": []
   },
   "outputs": [],
   "source": [
    "# Create dataset\n",
    "class MNIST(Dataset):\n",
    "    # Initialise\n",
    "    def __init__(self, subset='train'):\n",
    "        super().__init__()\n",
    "        self.subset = subset\n",
    "        \n",
    "        # Store data\n",
    "        if self.subset=='train':\n",
    "            self.X = torch.from_numpy(X_train.values.astype(np.float32))\n",
    "            self.y = torch.from_numpy(y_train.values)\n",
    "        elif self.subset=='valid':\n",
    "            self.X = torch.from_numpy(X_valid.values.astype(np.float32))\n",
    "            self.y = torch.from_numpy(y_valid.values)\n",
    "        elif self.subset=='test':\n",
    "            self.X = torch.from_numpy(test_data.values.astype(np.float32))\n",
    "        else:\n",
    "            raise Exception(\"subset must be train, valid or test\")\n",
    "        \n",
    "    # Get item in position given by index\n",
    "    def __getitem__(self, index):\n",
    "        if self.subset=='test':\n",
    "            return self.X[index]\n",
    "        else:\n",
    "            return self.X[index], self.y[index]\n",
    "        \n",
    "    # Length of dataset \n",
    "    def __len__(self):\n",
    "        return self.X.shape[0]\n",
    "\n",
    "train_dataset = MNIST(subset='train')\n",
    "valid_dataset = MNIST(subset='valid')\n",
    "test_dataset = MNIST(subset='test')"
   ]
  },
  {
   "cell_type": "markdown",
   "id": "b710d95f",
   "metadata": {
    "papermill": {
     "duration": 0.028861,
     "end_time": "2022-09-21T09:19:07.725198",
     "exception": false,
     "start_time": "2022-09-21T09:19:07.696337",
     "status": "completed"
    },
    "tags": []
   },
   "source": [
    "A useful feature of dataloaders is that they can **shuffle** the training set for us."
   ]
  },
  {
   "cell_type": "code",
   "execution_count": 11,
   "id": "2de7b97e",
   "metadata": {
    "execution": {
     "iopub.execute_input": "2022-09-21T09:19:07.792817Z",
     "iopub.status.busy": "2022-09-21T09:19:07.791784Z",
     "iopub.status.idle": "2022-09-21T09:19:07.794795Z",
     "shell.execute_reply": "2022-09-21T09:19:07.794196Z",
     "shell.execute_reply.started": "2022-08-24T19:41:46.763182Z"
    },
    "papermill": {
     "duration": 0.039108,
     "end_time": "2022-09-21T09:19:07.795003",
     "exception": false,
     "start_time": "2022-09-21T09:19:07.755895",
     "status": "completed"
    },
    "tags": []
   },
   "outputs": [],
   "source": [
    "# Dataloaders\n",
    "train_loader = DataLoader(dataset=train_dataset, batch_size=BATCH_SIZE, shuffle=True)\n",
    "valid_loader = DataLoader(dataset=valid_dataset, batch_size=BATCH_SIZE, shuffle=False)\n",
    "test_loader = DataLoader(dataset=test_dataset, batch_size=BATCH_SIZE, shuffle=False)"
   ]
  },
  {
   "cell_type": "markdown",
   "id": "2dc3ace0",
   "metadata": {
    "papermill": {
     "duration": 0.029404,
     "end_time": "2022-09-21T09:19:07.854470",
     "exception": false,
     "start_time": "2022-09-21T09:19:07.825066",
     "status": "completed"
    },
    "tags": []
   },
   "source": [
    "# Model\n",
    "\n",
    "When working with **neural networks**, we need to **inherit** the `nn.Module` and define a `forward` attribute. The inheritance part is done to get access to **attributes** like `model.parameters()`, which are used in training. \n",
    "\n",
    "Note that we **don't** need to apply **softmax** at the end because our loss function will apply it for us."
   ]
  },
  {
   "cell_type": "code",
   "execution_count": 12,
   "id": "608ea66a",
   "metadata": {
    "execution": {
     "iopub.execute_input": "2022-09-21T09:19:07.924566Z",
     "iopub.status.busy": "2022-09-21T09:19:07.923054Z",
     "iopub.status.idle": "2022-09-21T09:19:07.959364Z",
     "shell.execute_reply": "2022-09-21T09:19:07.959888Z",
     "shell.execute_reply.started": "2022-08-24T19:41:46.771440Z"
    },
    "papermill": {
     "duration": 0.075351,
     "end_time": "2022-09-21T09:19:07.960121",
     "exception": false,
     "start_time": "2022-09-21T09:19:07.884770",
     "status": "completed"
    },
    "tags": []
   },
   "outputs": [],
   "source": [
    "# Feedforward neural network\n",
    "class NeuralNet(nn.Module):\n",
    "    def __init__(self, layer1_size=LAYER1_SIZE, layer2_size=LAYER2_SIZE, dropout_rate=DROPOUT_RATE):\n",
    "        super().__init__()\n",
    "        \n",
    "        # Layers\n",
    "        self.lin1 = nn.Linear(in_features=784, out_features=layer1_size)\n",
    "        self.lin2 = nn.Linear(in_features=layer1_size, out_features=layer2_size)\n",
    "        self.lin3 = nn.Linear(in_features=layer2_size, out_features=10)\n",
    "        self.relu = nn.ReLU()\n",
    "        self.drop = nn.Dropout(p=dropout_rate)\n",
    "        \n",
    "    def forward(self, x):\n",
    "        \n",
    "        # Hidden layer 1\n",
    "        out = self.lin1(x)\n",
    "        out = self.relu(out)\n",
    "        out = self.drop(out)\n",
    "        \n",
    "        # Hidden layer 2\n",
    "        out = self.lin2(out)\n",
    "        out = self.relu(out)\n",
    "        out = self.drop(out)\n",
    "        \n",
    "        # Output layer (no softmax needed)\n",
    "        out = self.lin3(out)\n",
    "        \n",
    "        return out\n",
    "\n",
    "model = NeuralNet().to(device)"
   ]
  },
  {
   "cell_type": "markdown",
   "id": "4b890c9f",
   "metadata": {
    "papermill": {
     "duration": 0.028975,
     "end_time": "2022-09-21T09:19:08.018867",
     "exception": false,
     "start_time": "2022-09-21T09:19:07.989892",
     "status": "completed"
    },
    "tags": []
   },
   "source": [
    "# Loss & optimiser\n",
    "\n",
    "The **loss** function is called from the `torch.nn` library and the **optimiser** from the `torch.optim` library. We need to input the model **parameters** into the optimiser."
   ]
  },
  {
   "cell_type": "code",
   "execution_count": 13,
   "id": "e7929bc0",
   "metadata": {
    "execution": {
     "iopub.execute_input": "2022-09-21T09:19:08.081459Z",
     "iopub.status.busy": "2022-09-21T09:19:08.080706Z",
     "iopub.status.idle": "2022-09-21T09:19:08.084558Z",
     "shell.execute_reply": "2022-09-21T09:19:08.085189Z",
     "shell.execute_reply.started": "2022-08-24T19:41:46.826618Z"
    },
    "papermill": {
     "duration": 0.037312,
     "end_time": "2022-09-21T09:19:08.085368",
     "exception": false,
     "start_time": "2022-09-21T09:19:08.048056",
     "status": "completed"
    },
    "tags": []
   },
   "outputs": [],
   "source": [
    "# Cross entropy loss\n",
    "loss = nn.CrossEntropyLoss()\n",
    "\n",
    "# Adam optimiser\n",
    "optimiser = optim.Adam(params=model.parameters(), lr=LEARNING_RATE)"
   ]
  },
  {
   "cell_type": "markdown",
   "id": "4827b533",
   "metadata": {
    "papermill": {
     "duration": 0.029313,
     "end_time": "2022-09-21T09:19:08.144586",
     "exception": false,
     "start_time": "2022-09-21T09:19:08.115273",
     "status": "completed"
    },
    "tags": []
   },
   "source": [
    "# Train model\n",
    "\n",
    "The most **important** thing to remember with PyTorch is that after every epoch, you have to **zero the gradients** (otherwise they will accumulate and explode). Other than that, we need to perform the **forward pass**, **backward pass**, and **update the parameters**."
   ]
  },
  {
   "cell_type": "code",
   "execution_count": 14,
   "id": "dfea1cf5",
   "metadata": {
    "execution": {
     "iopub.execute_input": "2022-09-21T09:19:08.206452Z",
     "iopub.status.busy": "2022-09-21T09:19:08.205769Z",
     "iopub.status.idle": "2022-09-21T09:21:57.669802Z",
     "shell.execute_reply": "2022-09-21T09:21:57.670358Z",
     "shell.execute_reply.started": "2022-08-24T19:41:46.835200Z"
    },
    "papermill": {
     "duration": 169.496562,
     "end_time": "2022-09-21T09:21:57.670560",
     "exception": false,
     "start_time": "2022-09-21T09:19:08.173998",
     "status": "completed"
    },
    "tags": []
   },
   "outputs": [
    {
     "name": "stdout",
     "output_type": "stream",
     "text": [
      "Epoch 5/20, loss 0.09481, val_loss 0.15844\n",
      "Epoch 10/20, loss 0.06757, val_loss 0.19350\n",
      "Epoch 15/20, loss 0.05796, val_loss 0.17803\n",
      "Epoch 20/20, loss 0.05330, val_loss 0.20102\n"
     ]
    }
   ],
   "source": [
    "loss_hist = []\n",
    "val_loss_hist = []\n",
    "\n",
    "# Loop over epochs\n",
    "for epoch in range(N_EPOCHS):\n",
    "    loss_acc = 0\n",
    "    val_loss_acc = 0\n",
    "    train_count = 0\n",
    "    valid_count = 0\n",
    "    \n",
    "    # Loop over batches\n",
    "    for imgs, labels in train_loader:\n",
    "        # Reshape\n",
    "        imgs = imgs.to(device)\n",
    "        labels = labels.to(device)\n",
    "\n",
    "        # Forward pass\n",
    "        preds = model(imgs)\n",
    "        L = loss(preds,labels)\n",
    "\n",
    "        # Backprop\n",
    "        L.backward()\n",
    "\n",
    "        # Update parameters\n",
    "        optimiser.step()\n",
    "\n",
    "        # Zero gradients\n",
    "        optimiser.zero_grad()\n",
    "        \n",
    "        # Track loss\n",
    "        loss_acc += L.detach().item()\n",
    "        train_count += 1\n",
    "        \n",
    "    \n",
    "    # Don't update weights\n",
    "    with torch.no_grad():\n",
    "        # Validate\n",
    "        for val_imgs, val_labels in valid_loader:\n",
    "            # Reshape\n",
    "            val_imgs = val_imgs.to(device)\n",
    "            val_labels = val_labels.to(device)\n",
    "\n",
    "            # Forward pass\n",
    "            val_preds = model(val_imgs)\n",
    "            val_L = loss(val_preds,val_labels)\n",
    "            \n",
    "            # Track loss\n",
    "            val_loss_acc += val_L.item()\n",
    "            valid_count += 1\n",
    "        \n",
    "    # Save loss history\n",
    "    loss_hist.append(loss_acc/train_count)\n",
    "    val_loss_hist.append(val_loss_acc/valid_count)\n",
    "    \n",
    "    # Print loss\n",
    "    if (epoch+1)%5==0:\n",
    "        print(f'Epoch {epoch+1}/{N_EPOCHS}, loss {loss_acc/train_count:.5f}, val_loss {val_loss_acc/valid_count:.5f}')"
   ]
  },
  {
   "cell_type": "markdown",
   "id": "48310837",
   "metadata": {
    "papermill": {
     "duration": 0.030281,
     "end_time": "2022-09-21T09:21:57.731603",
     "exception": false,
     "start_time": "2022-09-21T09:21:57.701322",
     "status": "completed"
    },
    "tags": []
   },
   "source": [
    "**Learning curves**"
   ]
  },
  {
   "cell_type": "code",
   "execution_count": 15,
   "id": "0e14a19f",
   "metadata": {
    "execution": {
     "iopub.execute_input": "2022-09-21T09:21:57.815319Z",
     "iopub.status.busy": "2022-09-21T09:21:57.797367Z",
     "iopub.status.idle": "2022-09-21T09:21:58.084606Z",
     "shell.execute_reply": "2022-09-21T09:21:58.085131Z",
     "shell.execute_reply.started": "2022-08-24T19:44:54.300083Z"
    },
    "papermill": {
     "duration": 0.322285,
     "end_time": "2022-09-21T09:21:58.085319",
     "exception": false,
     "start_time": "2022-09-21T09:21:57.763034",
     "status": "completed"
    },
    "tags": []
   },
   "outputs": [
    {
     "data": {
      "image/png": "[encoded data removed]",
      "text/plain": [
       "<Figure size 720x360 with 1 Axes>"
      ]
     },
     "metadata": {
      "needs_background": "light"
     },
     "output_type": "display_data"
    }
   ],
   "source": [
    "# Plot loss\n",
    "plt.figure(figsize=(10,5))\n",
    "plt.plot(loss_hist, c='C0', label='loss')\n",
    "plt.plot(val_loss_hist, c='C1', label='val_loss')\n",
    "plt.title('Cross entropy loss')\n",
    "plt.xlabel('Epoch')\n",
    "plt.ylabel('Loss')\n",
    "plt.legend()\n",
    "plt.show()"
   ]
  },
  {
   "cell_type": "markdown",
   "id": "456c244f",
   "metadata": {
    "papermill": {
     "duration": 0.031716,
     "end_time": "2022-09-21T09:21:58.149173",
     "exception": false,
     "start_time": "2022-09-21T09:21:58.117457",
     "status": "completed"
    },
    "tags": []
   },
   "source": [
    "# Evaluate"
   ]
  },
  {
   "cell_type": "markdown",
   "id": "12146454",
   "metadata": {
    "papermill": {
     "duration": 0.031561,
     "end_time": "2022-09-21T09:21:58.212853",
     "exception": false,
     "start_time": "2022-09-21T09:21:58.181292",
     "status": "completed"
    },
    "tags": []
   },
   "source": [
    "Let's explore our model's **accuracy** on the **validation set**."
   ]
  },
  {
   "cell_type": "code",
   "execution_count": 16,
   "id": "08e70666",
   "metadata": {
    "execution": {
     "iopub.execute_input": "2022-09-21T09:21:58.286156Z",
     "iopub.status.busy": "2022-09-21T09:21:58.285208Z",
     "iopub.status.idle": "2022-09-21T09:21:58.440698Z",
     "shell.execute_reply": "2022-09-21T09:21:58.441252Z",
     "shell.execute_reply.started": "2022-08-24T19:44:54.603708Z"
    },
    "papermill": {
     "duration": 0.196539,
     "end_time": "2022-09-21T09:21:58.441429",
     "exception": false,
     "start_time": "2022-09-21T09:21:58.244890",
     "status": "completed"
    },
    "tags": []
   },
   "outputs": [
    {
     "name": "stdout",
     "output_type": "stream",
     "text": [
      "Overall accuracy on test set: 97.5 %\n",
      "Accuracy of 0: 98.6 %\n",
      "Accuracy of 1: 98.3 %\n",
      "Accuracy of 2: 97.8 %\n",
      "Accuracy of 3: 96.5 %\n",
      "Accuracy of 4: 98.1 %\n",
      "Accuracy of 5: 97.6 %\n",
      "Accuracy of 6: 99.8 %\n",
      "Accuracy of 7: 97.7 %\n",
      "Accuracy of 8: 96.4 %\n",
      "Accuracy of 9: 93.9 %\n"
     ]
    }
   ],
   "source": [
    "model.eval()\n",
    "\n",
    "with torch.no_grad():\n",
    "    n_correct=0\n",
    "    n_samples=0\n",
    "    \n",
    "    n_class_correct = [0 for i in range(10)]\n",
    "    n_class_sample = [0 for i in range(10)]\n",
    "    \n",
    "    for imgs, labels in valid_loader:\n",
    "        imgs = imgs.to(device)\n",
    "        labels = labels.to(device)\n",
    "        output = model(imgs)\n",
    "        \n",
    "        _, preds = torch.max(output, 1)\n",
    "        \n",
    "        n_samples += labels.shape[0]\n",
    "        n_correct += (preds == labels).sum().item()\n",
    "        \n",
    "        for i in range(BATCH_SIZE):\n",
    "            try:\n",
    "                label = labels[i].item()\n",
    "                pred = preds[i].item()\n",
    "            except:\n",
    "                break\n",
    "            \n",
    "            if (label==pred):\n",
    "                n_class_correct[label]+=1\n",
    "            n_class_sample[label]+=1\n",
    "    \n",
    "    acc = 100 * n_correct/n_samples\n",
    "    print(f'Overall accuracy on test set: {acc:.1f} %')\n",
    "    \n",
    "    for i in range(10):\n",
    "        print(f'Accuracy of {i}: {100* n_class_correct[i]/n_class_sample[i]:.1f} %')"
   ]
  },
  {
   "cell_type": "markdown",
   "id": "9fc84574",
   "metadata": {
    "papermill": {
     "duration": 0.032099,
     "end_time": "2022-09-21T09:21:58.506029",
     "exception": false,
     "start_time": "2022-09-21T09:21:58.473930",
     "status": "completed"
    },
    "tags": []
   },
   "source": [
    "# Make predictions\n",
    "\n",
    "Finally, we make predictions on the **test set**."
   ]
  },
  {
   "cell_type": "code",
   "execution_count": 17,
   "id": "605c8c12",
   "metadata": {
    "execution": {
     "iopub.execute_input": "2022-09-21T09:21:58.575474Z",
     "iopub.status.busy": "2022-09-21T09:21:58.574797Z",
     "iopub.status.idle": "2022-09-21T09:21:59.310498Z",
     "shell.execute_reply": "2022-09-21T09:21:59.309887Z",
     "shell.execute_reply.started": "2022-08-24T19:44:54.775223Z"
    },
    "papermill": {
     "duration": 0.771586,
     "end_time": "2022-09-21T09:21:59.310684",
     "exception": false,
     "start_time": "2022-09-21T09:21:58.539098",
     "status": "completed"
    },
    "tags": []
   },
   "outputs": [],
   "source": [
    "predictions = []\n",
    "confidences = []\n",
    "\n",
    "with torch.no_grad():\n",
    "    for imgs in test_loader:\n",
    "        imgs = imgs.to(device)\n",
    "        output = model(imgs)\n",
    "        \n",
    "        preds = torch.argmax(output, 1)\n",
    "        confs, _ = torch.max(nn.Softmax(dim=1)(output), dim=1)\n",
    "        \n",
    "        predictions.extend(preds.numpy().tolist())\n",
    "        confidences.extend(confs.numpy().tolist())"
   ]
  },
  {
   "cell_type": "markdown",
   "id": "2f14b899",
   "metadata": {
    "papermill": {
     "duration": 0.032205,
     "end_time": "2022-09-21T09:21:59.375781",
     "exception": false,
     "start_time": "2022-09-21T09:21:59.343576",
     "status": "completed"
    },
    "tags": []
   },
   "source": [
    "**Plot predictions**"
   ]
  },
  {
   "cell_type": "code",
   "execution_count": 18,
   "id": "97fcff50",
   "metadata": {
    "execution": {
     "iopub.execute_input": "2022-09-21T09:21:59.445056Z",
     "iopub.status.busy": "2022-09-21T09:21:59.444178Z",
     "iopub.status.idle": "2022-09-21T09:22:00.535895Z",
     "shell.execute_reply": "2022-09-21T09:22:00.536422Z",
     "shell.execute_reply.started": "2022-08-24T19:44:55.550315Z"
    },
    "papermill": {
     "duration": 1.128051,
     "end_time": "2022-09-21T09:22:00.536594",
     "exception": false,
     "start_time": "2022-09-21T09:21:59.408543",
     "status": "completed"
    },
    "tags": []
   },
   "outputs": [
    {
     "data": {
      "image/png": "[encoded data removed]",
      "text/plain": [
       "<Figure size 1080x288 with 20 Axes>"
      ]
     },
     "metadata": {
      "needs_background": "light"
     },
     "output_type": "display_data"
    }
   ],
   "source": [
    "# Plot some model predictions\n",
    "plt.figure(figsize=(15,4))\n",
    "plt.suptitle('Model predictions', fontsize=20, y=1.05)\n",
    "\n",
    "# Subplot\n",
    "for i in range(20):\n",
    "    img = test_data.iloc[i,:].values.reshape((28,28))/255;\n",
    "    ax=plt.subplot(2, 10, i+1)\n",
    "    ax.grid(False)\n",
    "    ax.get_xaxis().set_visible(False)\n",
    "    ax.get_yaxis().set_visible(False)\n",
    "    ax.set_title(f'Pred:{predictions[i]} \\n Conf:{np.round(100*confidences[i],1)}', fontdict = {'fontsize':14})\n",
    "    plt.imshow(img, cmap='gray')\n",
    "    \n",
    "plt.show()"
   ]
  },
  {
   "cell_type": "markdown",
   "id": "9b752495",
   "metadata": {
    "papermill": {
     "duration": 0.034408,
     "end_time": "2022-09-21T09:22:00.605980",
     "exception": false,
     "start_time": "2022-09-21T09:22:00.571572",
     "status": "completed"
    },
    "tags": []
   },
   "source": [
    "**Submit predictions**"
   ]
  },
  {
   "cell_type": "code",
   "execution_count": 19,
   "id": "582f81e2",
   "metadata": {
    "execution": {
     "iopub.execute_input": "2022-09-21T09:22:00.682237Z",
     "iopub.status.busy": "2022-09-21T09:22:00.680569Z",
     "iopub.status.idle": "2022-09-21T09:22:00.696382Z",
     "shell.execute_reply": "2022-09-21T09:22:00.696900Z",
     "shell.execute_reply.started": "2022-08-24T19:44:56.740408Z"
    },
    "papermill": {
     "duration": 0.056479,
     "end_time": "2022-09-21T09:22:00.697092",
     "exception": false,
     "start_time": "2022-09-21T09:22:00.640613",
     "status": "completed"
    },
    "tags": []
   },
   "outputs": [
    {
     "data": {
      "text/html": [
       "<div>\n",
       "<style scoped>\n",
       "    .dataframe tbody tr th:only-of-type {\n",
       "        vertical-align: middle;\n",
       "    }\n",
       "\n",
       "    .dataframe tbody tr th {\n",
       "        vertical-align: top;\n",
       "    }\n",
       "\n",
       "    .dataframe thead th {\n",
       "        text-align: right;\n",
       "    }\n",
       "</style>\n",
       "<table border=\"1\" class=\"dataframe\">\n",
       "  <thead>\n",
       "    <tr style=\"text-align: right;\">\n",
       "      <th></th>\n",
       "      <th>ImageId</th>\n",
       "      <th>Label</th>\n",
       "    </tr>\n",
       "  </thead>\n",
       "  <tbody>\n",
       "    <tr>\n",
       "      <th>0</th>\n",
       "      <td>1</td>\n",
       "      <td>2</td>\n",
       "    </tr>\n",
       "    <tr>\n",
       "      <th>1</th>\n",
       "      <td>2</td>\n",
       "      <td>0</td>\n",
       "    </tr>\n",
       "    <tr>\n",
       "      <th>2</th>\n",
       "      <td>3</td>\n",
       "      <td>9</td>\n",
       "    </tr>\n",
       "    <tr>\n",
       "      <th>3</th>\n",
       "      <td>4</td>\n",
       "      <td>0</td>\n",
       "    </tr>\n",
       "    <tr>\n",
       "      <th>4</th>\n",
       "      <td>5</td>\n",
       "      <td>3</td>\n",
       "    </tr>\n",
       "  </tbody>\n",
       "</table>\n",
       "</div>"
      ],
      "text/plain": [
       "   ImageId  Label\n",
       "0        1      2\n",
       "1        2      0\n",
       "2        3      9\n",
       "3        4      0\n",
       "4        5      3"
      ]
     },
     "execution_count": 19,
     "metadata": {},
     "output_type": "execute_result"
    }
   ],
   "source": [
    "# Save predictions to file\n",
    "output = pd.DataFrame({'ImageId': test_data.index+1, 'Label': predictions})\n",
    "\n",
    "# Check format\n",
    "output.head()"
   ]
  },
  {
   "cell_type": "code",
   "execution_count": 20,
   "id": "c2ffe1e0",
   "metadata": {
    "execution": {
     "iopub.execute_input": "2022-09-21T09:22:00.772166Z",
     "iopub.status.busy": "2022-09-21T09:22:00.771221Z",
     "iopub.status.idle": "2022-09-21T09:22:00.809846Z",
     "shell.execute_reply": "2022-09-21T09:22:00.810408Z",
     "shell.execute_reply.started": "2022-08-24T19:44:56.762552Z"
    },
    "papermill": {
     "duration": 0.077706,
     "end_time": "2022-09-21T09:22:00.810591",
     "exception": false,
     "start_time": "2022-09-21T09:22:00.732885",
     "status": "completed"
    },
    "tags": []
   },
   "outputs": [],
   "source": [
    "# Output to csv\n",
    "output.to_csv('submission.csv', index=False)"
   ]
  },
  {
   "cell_type": "markdown",
   "id": "d3b4a8d3",
   "metadata": {
    "papermill": {
     "duration": 0.034691,
     "end_time": "2022-09-21T09:22:00.880399",
     "exception": false,
     "start_time": "2022-09-21T09:22:00.845708",
     "status": "completed"
    },
    "tags": []
   },
   "source": [
    "**Check out my other PyTorch tutorials**\n",
    "\n",
    "1. [PT1 - Linear Regression with PyTorch](https://www.kaggle.com/code/samuelcortinhas/pt1-linear-regression-with-pytorch/notebook)\n",
    "2. [PT2 - Logistic Regression with PyTorch](https://www.kaggle.com/code/samuelcortinhas/pt2-logistic-regression-with-pytorch)\n",
    "3. [PT3 - Neural Networks with PyTorch](https://www.kaggle.com/code/samuelcortinhas/pt3-neural-networks-with-pytorch)\n",
    "4. [PT4 - CNNs with PyTorch](https://www.kaggle.com/samuelcortinhas/pt4-cnns-with-pytorch)\n",
    "5. [PT5 - Save & load models with PyTorch](https://www.kaggle.com/samuelcortinhas/pt5-save-load-models-with-pytorch)"
   ]
  }
 ],
 "metadata": {
  "kernelspec": {
   "display_name": "Python 3",
   "language": "python",
   "name": "python3"
  },
  "language_info": {
   "codemirror_mode": {
    "name": "ipython",
    "version": 3
   },
   "file_extension": ".py",
   "mimetype": "text/x-python",
   "name": "python",
   "nbconvert_exporter": "python",
   "pygments_lexer": "ipython3",
   "version": "3.7.10"
  },
  "papermill": {
   "default_parameters": {},
   "duration": 193.572899,
   "end_time": "2022-09-21T09:22:01.726914",
   "environment_variables": {},
   "exception": null,
   "input_path": "__notebook__.ipynb",
   "output_path": "__notebook__.ipynb",
   "parameters": {},
   "start_time": "2022-09-21T09:18:48.154015",
   "version": "2.3.3"
  }
 },
 "nbformat": 4,
 "nbformat_minor": 5
}
